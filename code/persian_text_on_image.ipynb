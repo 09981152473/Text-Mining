{
 "cells": [
  {
   "cell_type": "code",
   "execution_count": 1,
   "metadata": {},
   "outputs": [
    {
     "name": "stdout",
     "output_type": "stream",
     "text": [
      "Collecting arabic_reshaper\n",
      "  Downloading arabic_reshaper-3.0.0-py3-none-any.whl (20 kB)\n",
      "Installing collected packages: arabic-reshaper\n",
      "Successfully installed arabic-reshaper-3.0.0\n"
     ]
    }
   ],
   "source": [
    "!pip install arabic_reshaper"
   ]
  },
  {
   "cell_type": "code",
   "execution_count": 3,
   "metadata": {},
   "outputs": [
    {
     "name": "stdout",
     "output_type": "stream",
     "text": [
      "Collecting python-bidi\n",
      "  Downloading python_bidi-0.4.2-py2.py3-none-any.whl (30 kB)\n",
      "Requirement already satisfied: six in c:\\users\\hp\\.conda\\envs\\pth\\lib\\site-packages (from python-bidi) (1.16.0)\n",
      "Installing collected packages: python-bidi\n",
      "Successfully installed python-bidi-0.4.2\n",
      "Note: you may need to restart the kernel to use updated packages.\n"
     ]
    }
   ],
   "source": [
    "pip install python-bidi"
   ]
  },
  {
   "cell_type": "code",
   "execution_count": 5,
   "metadata": {},
   "outputs": [],
   "source": [
    "import arabic_reshaper\n",
    "\n",
    "from bidi.algorithm import get_display\n",
    "\n",
    "from PIL import ImageFont\n",
    "from PIL import Image\n",
    "from PIL import ImageDraw\n",
    "\n",
    "imageFile = r'../data/Soleimani_Last_Image.jpg'\n",
    "\n",
    "image = Image.open(imageFile)\n",
    "\n",
    "text = \"شهید قاسم سلیمانی\"\n",
    "reshaped_text = arabic_reshaper.reshape(text)    # correct its shape\n",
    "bidi_text = get_display(reshaped_text)           # correct its direction\n",
    "\n",
    "persian_font = ImageFont.truetype('IRLotusICEE.ttf', 40)\n",
    "draw = ImageDraw.Draw(image)\n",
    "draw.text((0, 0), bidi_text, (255,255,255), font=persian_font)\n",
    "draw = ImageDraw.Draw(image)\n",
    "\n",
    "image.save(\"output.png\")"
   ]
  },
  {
   "cell_type": "code",
   "execution_count": null,
   "metadata": {},
   "outputs": [],
   "source": []
  }
 ],
 "metadata": {
  "kernelspec": {
   "display_name": "pth",
   "language": "python",
   "name": "python3"
  },
  "language_info": {
   "codemirror_mode": {
    "name": "ipython",
    "version": 3
   },
   "file_extension": ".py",
   "mimetype": "text/x-python",
   "name": "python",
   "nbconvert_exporter": "python",
   "pygments_lexer": "ipython3",
   "version": "3.7.11"
  },
  "orig_nbformat": 4
 },
 "nbformat": 4,
 "nbformat_minor": 2
}

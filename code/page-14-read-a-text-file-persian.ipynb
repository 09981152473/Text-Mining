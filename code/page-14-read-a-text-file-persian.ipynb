{
 "cells": [
  {
   "cell_type": "markdown",
   "metadata": {
    "colab_type": "text",
    "id": "sX3WUTrWecqP"
   },
   "source": [
    "# محمود امین طوسی - درس متن کاوی \n",
    "\n",
    "پردازش متن فارسی "
   ]
  },
  {
   "cell_type": "code",
   "execution_count": null,
   "metadata": {
    "colab": {
     "base_uri": "https://localhost:8080/",
     "height": 125
    },
    "colab_type": "code",
    "executionInfo": {
     "elapsed": 26550,
     "status": "ok",
     "timestamp": 1552220748778,
     "user": {
      "displayName": "Mahmood Amintoosi",
      "photoUrl": "https://lh4.googleusercontent.com/-L9kqNgEMq4Q/AAAAAAAAAAI/AAAAAAAACn4/2zKYeoGn0fI/s64/photo.jpg",
      "userId": "06389092743998374259"
     },
     "user_tz": -210
    },
    "id": "fioHWpjDfHJd",
    "outputId": "4521a73d-d639-4fec-c8a8-be55592ab87a"
   },
   "outputs": [],
   "source": [
    "# Load the Drive helper and mount\n",
    "from google.colab import drive\n",
    "drive.mount('/content/drive')"
   ]
  },
  {
   "cell_type": "code",
   "execution_count": null,
   "metadata": {
    "colab": {},
    "colab_type": "code",
    "id": "Wj-LSMoHf3yS"
   },
   "outputs": [],
   "source": [
    "import os "
   ]
  },
  {
   "cell_type": "code",
   "execution_count": null,
   "metadata": {
    "colab": {
     "base_uri": "https://localhost:8080/",
     "height": 34
    },
    "colab_type": "code",
    "executionInfo": {
     "elapsed": 2549,
     "status": "ok",
     "timestamp": 1552220768432,
     "user": {
      "displayName": "Mahmood Amintoosi",
      "photoUrl": "https://lh4.googleusercontent.com/-L9kqNgEMq4Q/AAAAAAAAAAI/AAAAAAAACn4/2zKYeoGn0fI/s64/photo.jpg",
      "userId": "06389092743998374259"
     },
     "user_tz": -210
    },
    "id": "2Ep6tJHvfJV8",
    "outputId": "0ef6fa01-cd91-4643-e096-90ee78f20961"
   },
   "outputs": [],
   "source": [
    "WORK_DIR = \"/content/drive/My Drive/Teaching/Text_mining\"\n",
    "os.chdir(WORK_DIR)\n",
    "!pwd"
   ]
  },
  {
   "cell_type": "code",
   "execution_count": null,
   "metadata": {
    "colab": {},
    "colab_type": "code",
    "id": "ez01tFVRecqQ"
   },
   "outputs": [],
   "source": [
    "# from __future__ import unicode_literals\n",
    "import io\n",
    "filename = 'divan.txt'\n",
    "file = io.open(filename, encoding='utf-8-sig', errors='ignore') #encoding='utf-8',\n",
    "matn = file.read()\n",
    "file.close()"
   ]
  },
  {
   "cell_type": "code",
   "execution_count": null,
   "metadata": {
    "colab": {
     "base_uri": "https://localhost:8080/",
     "height": 34
    },
    "colab_type": "code",
    "executionInfo": {
     "elapsed": 4036,
     "status": "ok",
     "timestamp": 1552199205811,
     "user": {
      "displayName": "Mahmood Amintoosi",
      "photoUrl": "https://lh4.googleusercontent.com/-L9kqNgEMq4Q/AAAAAAAAAAI/AAAAAAAACn4/2zKYeoGn0fI/s64/photo.jpg",
      "userId": "06389092743998374259"
     },
     "user_tz": -210
    },
    "id": "UNawALK4ecqT",
    "outputId": "3867e5c1-6bc3-48a0-b694-0a3a993f84fb"
   },
   "outputs": [],
   "source": [
    "matn[0:96]"
   ]
  },
  {
   "cell_type": "code",
   "execution_count": null,
   "metadata": {
    "colab": {
     "base_uri": "https://localhost:8080/",
     "height": 34
    },
    "colab_type": "code",
    "executionInfo": {
     "elapsed": 4017,
     "status": "ok",
     "timestamp": 1552199205812,
     "user": {
      "displayName": "Mahmood Amintoosi",
      "photoUrl": "https://lh4.googleusercontent.com/-L9kqNgEMq4Q/AAAAAAAAAAI/AAAAAAAACn4/2zKYeoGn0fI/s64/photo.jpg",
      "userId": "06389092743998374259"
     },
     "user_tz": -210
    },
    "id": "LlU9V_RQecqY",
    "outputId": "41ebaf16-d269-47cb-fad1-6f1e1db1ee39"
   },
   "outputs": [],
   "source": [
    "matn.count('حافظ')"
   ]
  },
  {
   "cell_type": "code",
   "execution_count": null,
   "metadata": {
    "colab": {
     "base_uri": "https://localhost:8080/",
     "height": 34
    },
    "colab_type": "code",
    "executionInfo": {
     "elapsed": 4003,
     "status": "ok",
     "timestamp": 1552199205813,
     "user": {
      "displayName": "Mahmood Amintoosi",
      "photoUrl": "https://lh4.googleusercontent.com/-L9kqNgEMq4Q/AAAAAAAAAAI/AAAAAAAACn4/2zKYeoGn0fI/s64/photo.jpg",
      "userId": "06389092743998374259"
     },
     "user_tz": -210
    },
    "id": "nX0OftCfecqb",
    "outputId": "f5958fc4-041a-48df-f36f-7df760a042b1"
   },
   "outputs": [],
   "source": [
    "matn.endswith('ظ')"
   ]
  },
  {
   "cell_type": "code",
   "execution_count": null,
   "metadata": {
    "colab": {
     "base_uri": "https://localhost:8080/",
     "height": 34
    },
    "colab_type": "code",
    "executionInfo": {
     "elapsed": 3986,
     "status": "ok",
     "timestamp": 1552199205813,
     "user": {
      "displayName": "Mahmood Amintoosi",
      "photoUrl": "https://lh4.googleusercontent.com/-L9kqNgEMq4Q/AAAAAAAAAAI/AAAAAAAACn4/2zKYeoGn0fI/s64/photo.jpg",
      "userId": "06389092743998374259"
     },
     "user_tz": -210
    },
    "id": "Xv5zRsUbecqe",
    "outputId": "56bc1ba5-9903-4f83-c252-f8a5a9c7d7fe"
   },
   "outputs": [],
   "source": [
    "fa_words = matn.split()\n",
    "len(fa_words)"
   ]
  },
  {
   "cell_type": "code",
   "execution_count": null,
   "metadata": {
    "colab": {
     "base_uri": "https://localhost:8080/",
     "height": 54
    },
    "colab_type": "code",
    "executionInfo": {
     "elapsed": 3979,
     "status": "ok",
     "timestamp": 1552199205814,
     "user": {
      "displayName": "Mahmood Amintoosi",
      "photoUrl": "https://lh4.googleusercontent.com/-L9kqNgEMq4Q/AAAAAAAAAAI/AAAAAAAACn4/2zKYeoGn0fI/s64/photo.jpg",
      "userId": "06389092743998374259"
     },
     "user_tz": -210
    },
    "id": "enjLv9TKecqi",
    "outputId": "a12c69fe-665e-4d1c-fc2b-fa6641fd7202"
   },
   "outputs": [],
   "source": [
    "print(fa_words[1:20])"
   ]
  },
  {
   "cell_type": "code",
   "execution_count": null,
   "metadata": {
    "colab": {
     "base_uri": "https://localhost:8080/",
     "height": 34
    },
    "colab_type": "code",
    "executionInfo": {
     "elapsed": 3965,
     "status": "ok",
     "timestamp": 1552199205815,
     "user": {
      "displayName": "Mahmood Amintoosi",
      "photoUrl": "https://lh4.googleusercontent.com/-L9kqNgEMq4Q/AAAAAAAAAAI/AAAAAAAACn4/2zKYeoGn0fI/s64/photo.jpg",
      "userId": "06389092743998374259"
     },
     "user_tz": -210
    },
    "id": "C6bQBP3Tecql",
    "outputId": "8f94fba3-0b3b-465e-9da6-af805a30feb7"
   },
   "outputs": [],
   "source": [
    "type(matn)"
   ]
  },
  {
   "cell_type": "markdown",
   "metadata": {
    "colab_type": "text",
    "id": "xxHLBEZmecqo"
   },
   "source": [
    "اگر تعداد کلمات متن را دربیاوریم، تعداد حروف را خواهیم داشت:"
   ]
  },
  {
   "cell_type": "code",
   "execution_count": null,
   "metadata": {
    "colab": {
     "base_uri": "https://localhost:8080/",
     "height": 34
    },
    "colab_type": "code",
    "executionInfo": {
     "elapsed": 3956,
     "status": "ok",
     "timestamp": 1552199205816,
     "user": {
      "displayName": "Mahmood Amintoosi",
      "photoUrl": "https://lh4.googleusercontent.com/-L9kqNgEMq4Q/AAAAAAAAAAI/AAAAAAAACn4/2zKYeoGn0fI/s64/photo.jpg",
      "userId": "06389092743998374259"
     },
     "user_tz": -210
    },
    "id": "jl4hfQtpecqp",
    "outputId": "39a658d8-650a-4629-f1d6-a00eeb217d47"
   },
   "outputs": [],
   "source": [
    "len(matn)"
   ]
  },
  {
   "cell_type": "markdown",
   "metadata": {
    "colab_type": "text",
    "id": "diooypWbecqt"
   },
   "source": [
    "See View/Summary in Notepad++\n",
    "\n",
    "و به جای مجموعه کلمات، مجموعه حروف... "
   ]
  },
  {
   "cell_type": "code",
   "execution_count": null,
   "metadata": {
    "colab": {
     "base_uri": "https://localhost:8080/",
     "height": 862
    },
    "colab_type": "code",
    "executionInfo": {
     "elapsed": 3948,
     "status": "ok",
     "timestamp": 1552199205816,
     "user": {
      "displayName": "Mahmood Amintoosi",
      "photoUrl": "https://lh4.googleusercontent.com/-L9kqNgEMq4Q/AAAAAAAAAAI/AAAAAAAACn4/2zKYeoGn0fI/s64/photo.jpg",
      "userId": "06389092743998374259"
     },
     "user_tz": -210
    },
    "id": "V8OJF7sIecqt",
    "outputId": "e9d071dc-f185-4218-b4db-a546c3ddf768"
   },
   "outputs": [],
   "source": [
    "set(matn)"
   ]
  },
  {
   "cell_type": "code",
   "execution_count": null,
   "metadata": {
    "colab": {
     "base_uri": "https://localhost:8080/",
     "height": 406
    },
    "colab_type": "code",
    "executionInfo": {
     "elapsed": 25190,
     "status": "ok",
     "timestamp": 1552220809955,
     "user": {
      "displayName": "Mahmood Amintoosi",
      "photoUrl": "https://lh4.googleusercontent.com/-L9kqNgEMq4Q/AAAAAAAAAAI/AAAAAAAACn4/2zKYeoGn0fI/s64/photo.jpg",
      "userId": "06389092743998374259"
     },
     "user_tz": -210
    },
    "id": "cvASIqKUgTdN",
    "outputId": "38878829-3800-4ce4-9b44-cc72f503c5e8"
   },
   "outputs": [],
   "source": [
    "!pip3 install hazm"
   ]
  },
  {
   "cell_type": "code",
   "execution_count": null,
   "metadata": {
    "colab": {},
    "colab_type": "code",
    "id": "RtlGTbY-ecqx"
   },
   "outputs": [],
   "source": [
    "import hazm"
   ]
  },
  {
   "cell_type": "code",
   "execution_count": null,
   "metadata": {
    "colab": {
     "base_uri": "https://localhost:8080/",
     "height": 34
    },
    "colab_type": "code",
    "executionInfo": {
     "elapsed": 31000,
     "status": "ok",
     "timestamp": 1552199232883,
     "user": {
      "displayName": "Mahmood Amintoosi",
      "photoUrl": "https://lh4.googleusercontent.com/-L9kqNgEMq4Q/AAAAAAAAAAI/AAAAAAAACn4/2zKYeoGn0fI/s64/photo.jpg",
      "userId": "06389092743998374259"
     },
     "user_tz": -210
    },
    "id": "s-s7Q-Tvecqz",
    "outputId": "b1b89d60-056f-4789-9c6e-09f4e8869e4c"
   },
   "outputs": [],
   "source": [
    "len(matn)"
   ]
  },
  {
   "cell_type": "code",
   "execution_count": null,
   "metadata": {
    "colab": {
     "base_uri": "https://localhost:8080/",
     "height": 87
    },
    "colab_type": "code",
    "executionInfo": {
     "elapsed": 30993,
     "status": "ok",
     "timestamp": 1552199232884,
     "user": {
      "displayName": "Mahmood Amintoosi",
      "photoUrl": "https://lh4.googleusercontent.com/-L9kqNgEMq4Q/AAAAAAAAAAI/AAAAAAAACn4/2zKYeoGn0fI/s64/photo.jpg",
      "userId": "06389092743998374259"
     },
     "user_tz": -210
    },
    "id": "BOhx_ED_ecq2",
    "outputId": "13ac52a8-0ffb-40cd-e2c6-51d243d0bd6c"
   },
   "outputs": [],
   "source": [
    "sentence = hazm.sent_tokenize(matn)\n",
    "print(sentence[0])\n",
    "print(sentence[1])\n",
    "print('...')\n",
    "print(sentence[-1])"
   ]
  },
  {
   "cell_type": "code",
   "execution_count": null,
   "metadata": {
    "colab": {
     "base_uri": "https://localhost:8080/",
     "height": 34
    },
    "colab_type": "code",
    "executionInfo": {
     "elapsed": 30984,
     "status": "ok",
     "timestamp": 1552199232884,
     "user": {
      "displayName": "Mahmood Amintoosi",
      "photoUrl": "https://lh4.googleusercontent.com/-L9kqNgEMq4Q/AAAAAAAAAAI/AAAAAAAACn4/2zKYeoGn0fI/s64/photo.jpg",
      "userId": "06389092743998374259"
     },
     "user_tz": -210
    },
    "id": "_XzEDwMMecq8",
    "outputId": "78a5d8df-1ffb-47cc-c2e6-d0910e65045e"
   },
   "outputs": [],
   "source": [
    "len(sentence)"
   ]
  },
  {
   "cell_type": "code",
   "execution_count": null,
   "metadata": {
    "colab": {
     "base_uri": "https://localhost:8080/",
     "height": 34
    },
    "colab_type": "code",
    "executionInfo": {
     "elapsed": 31330,
     "status": "ok",
     "timestamp": 1552199233238,
     "user": {
      "displayName": "Mahmood Amintoosi",
      "photoUrl": "https://lh4.googleusercontent.com/-L9kqNgEMq4Q/AAAAAAAAAAI/AAAAAAAACn4/2zKYeoGn0fI/s64/photo.jpg",
      "userId": "06389092743998374259"
     },
     "user_tz": -210
    },
    "id": "HcDFZhOqecq_",
    "outputId": "71f706a4-9dd3-4f1d-8a94-2f0fdac78e67"
   },
   "outputs": [],
   "source": [
    "sentence_word = [hazm.word_tokenize(sent) for sent in sentence]\n",
    "print(sentence_word[1])"
   ]
  },
  {
   "cell_type": "code",
   "execution_count": null,
   "metadata": {
    "colab": {
     "base_uri": "https://localhost:8080/",
     "height": 34
    },
    "colab_type": "code",
    "executionInfo": {
     "elapsed": 31323,
     "status": "ok",
     "timestamp": 1552199233240,
     "user": {
      "displayName": "Mahmood Amintoosi",
      "photoUrl": "https://lh4.googleusercontent.com/-L9kqNgEMq4Q/AAAAAAAAAAI/AAAAAAAACn4/2zKYeoGn0fI/s64/photo.jpg",
      "userId": "06389092743998374259"
     },
     "user_tz": -210
    },
    "id": "qSmBeuyXecrQ",
    "outputId": "6d14629b-9741-4b75-c185-bd498d2e9841"
   },
   "outputs": [],
   "source": [
    "len(sentence_word)"
   ]
  },
  {
   "cell_type": "code",
   "execution_count": null,
   "metadata": {
    "colab": {
     "base_uri": "https://localhost:8080/",
     "height": 34
    },
    "colab_type": "code",
    "executionInfo": {
     "elapsed": 31316,
     "status": "ok",
     "timestamp": 1552199233241,
     "user": {
      "displayName": "Mahmood Amintoosi",
      "photoUrl": "https://lh4.googleusercontent.com/-L9kqNgEMq4Q/AAAAAAAAAAI/AAAAAAAACn4/2zKYeoGn0fI/s64/photo.jpg",
      "userId": "06389092743998374259"
     },
     "user_tz": -210
    },
    "id": "NL29dLjNecra",
    "outputId": "537fb666-c268-4ae7-c0c1-97367d196201"
   },
   "outputs": [],
   "source": [
    "sent_tok = hazm.sent_tokenize(matn)\n",
    "len(sent_tok)\n",
    "print(sent_tok[0:2])"
   ]
  },
  {
   "cell_type": "code",
   "execution_count": null,
   "metadata": {
    "colab": {
     "base_uri": "https://localhost:8080/",
     "height": 90
    },
    "colab_type": "code",
    "executionInfo": {
     "elapsed": 772,
     "status": "ok",
     "timestamp": 1552199294526,
     "user": {
      "displayName": "Mahmood Amintoosi",
      "photoUrl": "https://lh4.googleusercontent.com/-L9kqNgEMq4Q/AAAAAAAAAAI/AAAAAAAACn4/2zKYeoGn0fI/s64/photo.jpg",
      "userId": "06389092743998374259"
     },
     "user_tz": -210
    },
    "id": "rkQCB-deecrd",
    "outputId": "f886dbc8-b102-4f08-f702-b10d2f5a0b28"
   },
   "outputs": [],
   "source": [
    "word_tok = hazm.word_tokenize(matn)\n",
    "print(len(word_tok))\n",
    "print(word_tok[1:20])\n",
    "print(type(word_tok))"
   ]
  },
  {
   "cell_type": "code",
   "execution_count": null,
   "metadata": {
    "colab": {
     "base_uri": "https://localhost:8080/",
     "height": 52
    },
    "colab_type": "code",
    "executionInfo": {
     "elapsed": 764,
     "status": "ok",
     "timestamp": 1552204958060,
     "user": {
      "displayName": "Mahmood Amintoosi",
      "photoUrl": "https://lh4.googleusercontent.com/-L9kqNgEMq4Q/AAAAAAAAAAI/AAAAAAAACn4/2zKYeoGn0fI/s64/photo.jpg",
      "userId": "06389092743998374259"
     },
     "user_tz": -210
    },
    "id": "DG4gXPwJecrg",
    "outputId": "9985bd97-75a1-4e4b-ee57-4e086047d787"
   },
   "outputs": [],
   "source": [
    "kalemat = set()\n",
    "for w in set(word_tok):\n",
    "  if w.endswith('شن'):\n",
    "    kalemat.add(w)\n",
    "#     print(w)\n",
    "print(kalemat)\n",
    "print(type(kalemat))"
   ]
  },
  {
   "cell_type": "code",
   "execution_count": null,
   "metadata": {
    "colab": {
     "base_uri": "https://localhost:8080/",
     "height": 52
    },
    "colab_type": "code",
    "executionInfo": {
     "elapsed": 796,
     "status": "ok",
     "timestamp": 1552204975974,
     "user": {
      "displayName": "Mahmood Amintoosi",
      "photoUrl": "https://lh4.googleusercontent.com/-L9kqNgEMq4Q/AAAAAAAAAAI/AAAAAAAACn4/2zKYeoGn0fI/s64/photo.jpg",
      "userId": "06389092743998374259"
     },
     "user_tz": -210
    },
    "id": "zeu44mOoSay6",
    "outputId": "4e2ae2b0-d379-42e4-e57b-9ff58891512a"
   },
   "outputs": [],
   "source": [
    "# loghat = {w for w in set(word_tok) if w.endswith('شن')}\n",
    "loghat = [w for w in set(word_tok) if w.endswith('شن')]\n",
    "print(loghat)\n",
    "print(type(loghat))"
   ]
  },
  {
   "source": [
    "tricky = sorted([w for w in set(word_tok) if 'گل' in w or 'چمن' in w])\n",
    "print(tricky)"
   ],
   "cell_type": "code",
   "metadata": {
    "colab": {
     "base_uri": "https://localhost:8080/",
     "height": 54
    },
    "colab_type": "code",
    "executionInfo": {
     "elapsed": 1767,
     "status": "ok",
     "timestamp": 1552205144369,
     "user": {
      "displayName": "Mahmood Amintoosi",
      "photoUrl": "https://lh4.googleusercontent.com/-L9kqNgEMq4Q/AAAAAAAAAAI/AAAAAAAACn4/2zKYeoGn0fI/s64/photo.jpg",
      "userId": "06389092743998374259"
     },
     "user_tz": -210
    },
    "id": "djUmFtqEn1rx",
    "outputId": "812e0afe-0283-4467-9441-66d5047280f3"
   },
   "execution_count": null,
   "outputs": []
  },
  {
   "cell_type": "code",
   "execution_count": null,
   "metadata": {
    "colab": {},
    "colab_type": "code",
    "id": "Lal1rtolopOp"
   },
   "outputs": [],
   "source": [
    "import nltk\n",
    "word_tok = nltk.word_tokenize(matn)\n",
    "txt = nltk.text.Text(word_tok)\n",
    "print(len(txt))"
   ]
  },
  {
   "cell_type": "code",
   "execution_count": null,
   "metadata": {},
   "outputs": [],
   "source": [
    "import nltk\n",
    "nltk.download('punkt')  "
   ]
  },
  {
   "cell_type": "code",
   "execution_count": null,
   "metadata": {},
   "outputs": [],
   "source": [
    "word_tok = nltk.word_tokenize(matn)\n",
    "txt = nltk.Text(word_tok)\n",
    "print(len(txt))"
   ]
  },
  {
   "cell_type": "code",
   "execution_count": null,
   "metadata": {},
   "outputs": [],
   "source": [
    "txt.similar(\"دل\")"
   ]
  },
  {
   "cell_type": "code",
   "execution_count": null,
   "metadata": {},
   "outputs": [],
   "source": [
    "txt.dispersion_plot([\"دنيا\",\"دين\",\"دل\"])"
   ]
  }
 ],
 "metadata": {
  "colab": {
   "collapsed_sections": [],
   "name": "page-14-persian.ipynb",
   "provenance": [],
   "version": "0.3.2"
  },
  "kernelspec": {
   "display_name": "Python 3",
   "language": "python",
   "name": "python3"
  },
  "language_info": {
   "codemirror_mode": {
    "name": "ipython",
    "version": 3
   },
   "file_extension": ".py",
   "mimetype": "text/x-python",
   "name": "python",
   "nbconvert_exporter": "python",
   "pygments_lexer": "ipython3",
   "version": "3.6.10"
  }
 },
 "nbformat": 4,
 "nbformat_minor": 1
}
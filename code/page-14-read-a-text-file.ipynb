{
 "cells": [
  {
   "cell_type": "markdown",
   "metadata": {},
   "source": [
    "#### محمود امین طوسی - درس متن‌کاوی\n",
    " مثال صفحه ۱۴ کتاب \n",
    " \n",
    " Natural Language Processing with Python"
   ]
  },
  {
   "cell_type": "code",
   "execution_count": 5,
   "metadata": {
    "tags": []
   },
   "outputs": [
    {
     "name": "stdout",
     "output_type": "stream",
     "text": [
      "Cuthbert\n",
      "Cuthbert\n",
      "Concert\n",
      "Concert\n",
      "Concert\n",
      "Cuthbert\n",
      "Cuthbert\n",
      "Cuthbert\n",
      "Cuthbert\n",
      "Cuthbert\n",
      "Cuthbert\n",
      "Cuthbert\n",
      "Cuthbert\n",
      "Robert\n",
      "Cuthbert\n",
      "Cuthbert\n",
      "Cuthbert\n",
      "Cuthbert\n",
      "Cuthbert\n",
      "Robert\n",
      "Robert\n",
      "Cuthbert\n",
      "Cuthbert\n",
      "Cuthbert\n",
      "Gilbert\n",
      "“Gilbert\n",
      "Gilbert\n",
      "Gilbert\n",
      "Gilbert\n",
      "Gilbert\n",
      "Gilbert\n",
      "Gilbert\n",
      "Gilbert\n",
      "Gilbert\n",
      "Gilbert\n",
      "Gilbert\n",
      "Gilbert\n",
      "Gilbert\n",
      "Gilbert\n",
      "Gilbert\n",
      "Gilbert\n",
      "Gilbert\n",
      "“Gilbert\n",
      "Gilbert\n",
      "Gilbert\n",
      "Gilbert\n",
      "Gilbert\n",
      "Gilbert\n",
      "Gilbert\n",
      "Gilbert\n",
      "Cuthbert\n",
      "Gilbert\n",
      "Gilbert\n",
      "Gilbert\n",
      "Gilbert\n",
      "Gilbert\n",
      "Gilbert\n",
      "Gilbert\n",
      "Gilbert\n",
      "Gilbert\n",
      "Cuthbert\n",
      "Gilbert\n",
      "Concert\n",
      "concert\n",
      "concert\n",
      "concert\n",
      "Gilbert\n",
      "concert\n",
      "concert\n",
      "Gilbert\n",
      "Gilbert\n",
      "Cuthbert\n",
      "Cuthbert\n",
      "Cuthbert\n",
      "concert\n",
      "concert\n",
      "Concert\n",
      "concert\n",
      "concert\n",
      "Cuthbert\n",
      "Cuthbert\n",
      "concert\n",
      "“Gilbert\n",
      "concert\n",
      "concert\n",
      "concert\n",
      "concert\n",
      "alert\n",
      "Gilbert\n",
      "Gilbert\n",
      "Gilbert\n",
      "Gilbert\n",
      "Gilbert\n",
      "Gilbert\n",
      "Gilbert\n",
      "Gilbert\n",
      "Gilbert\n",
      "Gilbert\n",
      "Gilbert\n",
      "Cuthbert\n",
      "concert\n",
      "concert\n",
      "Cuthbert\n",
      "Gilbert\n",
      "Gilbert\n",
      "Gilbert\n",
      "Gilbert\n",
      "Gilbert\n",
      "Gilbert\n",
      "Gilbert\n",
      "Gilbert\n",
      "concert\n",
      "Cuthbert\n",
      "Cuthbert\n",
      "Gilbert\n",
      "Gilbert\n",
      "Gilbert\n",
      "Gilbert\n",
      "Gilbert\n",
      "Gilbert\n",
      "Gilbert\n",
      "Concert\n",
      "concert\n",
      "concert\n",
      "concert\n",
      "concert\n",
      "concert\n",
      "Gilbert\n",
      "Gilbert\n",
      "Gilbert\n",
      "concert\n",
      "Gilbert\n",
      "“Gilbert\n",
      "Gilbert\n",
      "Gilbert\n",
      "Gilbert\n",
      "Gilbert\n",
      "Gilbert\n",
      "Gilbert\n",
      "Gilbert\n",
      "Gilbert\n",
      "Gilbert\n",
      "three--Gilbert\n",
      "Gilbert\n",
      "Gilbert\n",
      "Gilbert\n",
      "Gilbert\n",
      "“Gilbert\n",
      "Gilbert\n",
      "Cuthbert\n",
      "Cuthbert\n",
      "Cuthbert\n",
      "“Gilbert\n",
      "Gilbert\n",
      "inert\n",
      "Gilbert\n",
      "Gilbert\n",
      "Gilbert\n",
      "Gilbert\n",
      "Cuthbert\n",
      "Gilbert\n",
      "“Gilbert\n",
      "Gilbert\n"
     ]
    }
   ],
   "source": [
    "fileName = \"../data/Anne_of_Green_Gables.txt\"\n",
    "for line in open(fileName, encoding='utf-8'):\n",
    "    for word in line.split():\n",
    "        if word.endswith('ert'):\n",
    "            print(word)"
   ]
  },
  {
   "cell_type": "code",
   "execution_count": 6,
   "metadata": {},
   "outputs": [],
   "source": [
    "import io\n",
    "file = io.open(fileName, encoding='utf-8')\n",
    "matn = file.read()\n",
    "file.close()"
   ]
  },
  {
   "cell_type": "code",
   "execution_count": 15,
   "metadata": {},
   "outputs": [
    {
     "name": "stdout",
     "output_type": "stream",
     "text": [
      "Title: Anne of Green Gables\n",
      "\n",
      "Author: Lucy Maud Montgomery\n",
      "\n",
      "\n",
      "Release Date: 1992 [EBook #45]\n",
      "Last Upda\n",
      "561021\n"
     ]
    }
   ],
   "source": [
    "print(matn[:100])\n",
    "print(len(matn))"
   ]
  },
  {
   "cell_type": "code",
   "execution_count": 16,
   "metadata": {},
   "outputs": [
    {
     "data": {
      "text/plain": [
       "False"
      ]
     },
     "execution_count": 16,
     "metadata": {},
     "output_type": "execute_result"
    }
   ],
   "source": [
    "matn.endswith('ert')"
   ]
  },
  {
   "cell_type": "code",
   "execution_count": 8,
   "metadata": {
    "tags": []
   },
   "outputs": [
    {
     "name": "stdout",
     "output_type": "stream",
     "text": [
      "126992\n"
     ]
    }
   ],
   "source": [
    "import nltk\n",
    "word_tok = nltk.word_tokenize(matn)\n",
    "txt = nltk.text.Text(word_tok)\n",
    "print(len(txt))"
   ]
  },
  {
   "cell_type": "code",
   "execution_count": 9,
   "metadata": {
    "tags": []
   },
   "outputs": [
    {
     "name": "stdout",
     "output_type": "stream",
     "text": [
      "time lovely road hollow door other best lane yard expression eyes face\n",
      "table morning school and the to tea new\n"
     ]
    }
   ],
   "source": [
    "txt.similar(\"Green\")"
   ]
  },
  {
   "cell_type": "code",
   "execution_count": 10,
   "metadata": {
    "tags": []
   },
   "outputs": [
    {
     "name": "stdout",
     "output_type": "stream",
     "text": [
      "of_s in_s on_s said_i said_with oh_i that_was that_s if_had said_diana\n",
      "and_s that_and you_said said_reproachfully and_found and_went said_who\n",
      "when_was by_s said_it\n"
     ]
    }
   ],
   "source": [
    "txt.common_contexts([\"Anne\",\"diana\"])"
   ]
  },
  {
   "cell_type": "code",
   "execution_count": 11,
   "metadata": {
    "tags": []
   },
   "outputs": [
    {
     "name": "stdout",
     "output_type": "stream",
     "text": [
      "Displaying 25 of 131 matches:\n",
      "Title : Anne of Green Gables Author : Lucy Maud Montgomery\n",
      " 6 , 2016 Language : English ANNE OF GREEN GABLES By Lucy Maud Montgomery Table\n",
      "t Is Surprised CHAPTER IV Morning at Green Gables CHAPTER V Anne ’ s History CH\n",
      "XXXVIII The Bend in the road ANNE OF GREEN GABLES CHAPTER I. Mrs. Rachel Lynde \n",
      "the big red brook field away over by Green Gables . Mrs. Rachel knew that he ou\n",
      "spoiled . “ I ’ ll just step over to Green Gables after tea and find out from M\n",
      "oods when he founded his homestead . Green Gables was built at the furthest edg\n",
      "out of the lane into the backyard of Green Gables . Very green and neat and pre\n",
      " the backyard of Green Gables . Very green and neat and precise was that yard ,\n",
      "hen bidden to do so . The kitchen at Green Gables was a cheerful apartment -- o\n",
      "l mystery about quiet , unmysterious Green Gables . “ Good evening , Rachel , ”\n",
      " say I didn ’ t warn you if he burns Green Gables down or puts strychnine in th\n",
      "seems uncanny to think of a child at Green Gables somehow ; there ’ s never bee\n",
      " and so were her eyes , which looked green in some lights and moods and gray in\n",
      "pose you are Mr. Matthew Cuthbert of Green Gables ? ” she said in a peculiarly \n",
      "deferred until he was safely back at Green Gables . “ I ’ m sorry I was late , \n",
      "s. Spencer said your place was named Green Gables . I asked her all about it . \n",
      "you ? Is there a brook anywhere near Green Gables ? I forgot to ask Mrs. Spence\n",
      "ings so much -- the freckles and the green eyes and my skinniness . I can imagi\n",
      "ings of crocus and rose and ethereal green , with other elusive tintings for wh\n",
      "hat big bush behind it you could see Green Gables from here . But we have to go\n",
      "’ re pretty near home now . That ’ s Green Gables over -- ” “ Oh , don ’ t tell\n",
      "p the hill and into the long lane of Green Gables . By the time they arrived at\n",
      "f to sleep . CHAPTER IV . Morning at Green Gables |IT was broad daylight when A\n",
      "en a horrible remembrance . This was Green Gables and they didn ’ t want her be\n"
     ]
    }
   ],
   "source": [
    "txt.concordance(\"green\")"
   ]
  },
  {
   "cell_type": "code",
   "execution_count": 12,
   "metadata": {},
   "outputs": [
    {
     "data": {
      "image/png": "[encoded data removed]",
      "text/plain": [
       "<Figure size 432x288 with 1 Axes>"
      ]
     },
     "metadata": {
      "needs_background": "light"
     },
     "output_type": "display_data"
    }
   ],
   "source": [
    "txt.dispersion_plot([\"Anne\",\"Diana\",\"Gilbert\"])"
   ]
  },
  {
   "cell_type": "code",
   "execution_count": 13,
   "metadata": {
    "tags": []
   },
   "outputs": [
    {
     "name": "stderr",
     "output_type": "stream",
     "text": [
      "Building ngram index...\n"
     ]
    },
    {
     "name": "stdout",
     "output_type": "stream",
     "text": [
      "m a dreadfully wicked to swear , ” said Anne , sobbingly . -- so --\n",
      "like a star Remember that . and me to cook but I couldn ’ t let you go\n",
      "pitying me . As for Cordelia , she asserted , was entirely unsuited to\n",
      "this amazing piece of blue sky that looks as if we get a word was said\n",
      "about you after something you ’ re to have the old inrush of gladness\n",
      "when she sat , drabbled and furious , in a lunatic asylum . up here\n",
      "one day I was pleased to accept\n"
     ]
    },
    {
     "data": {
      "text/plain": [
       "'m a dreadfully wicked to swear , ” said Anne , sobbingly . -- so --\\nlike a star Remember that . and me to cook but I couldn ’ t let you go\\npitying me . As for Cordelia , she asserted , was entirely unsuited to\\nthis amazing piece of blue sky that looks as if we get a word was said\\nabout you after something you ’ re to have the old inrush of gladness\\nwhen she sat , drabbled and furious , in a lunatic asylum . up here\\none day I was pleased to accept'"
      ]
     },
     "execution_count": 13,
     "metadata": {},
     "output_type": "execute_result"
    }
   ],
   "source": [
    "txt.generate()"
   ]
  }
 ],
 "metadata": {
  "kernelspec": {
   "display_name": "Python 3.7.11 ('pth')",
   "language": "python",
   "name": "python3"
  },
  "language_info": {
   "codemirror_mode": {
    "name": "ipython",
    "version": 3
   },
   "file_extension": ".py",
   "mimetype": "text/x-python",
   "name": "python",
   "nbconvert_exporter": "python",
   "pygments_lexer": "ipython3",
   "version": "3.7.11"
  },
  "vscode": {
   "interpreter": {
    "hash": "2d127628e8ee158c1164e7347bad594e69e46b7e4c4169a2e2c47928048cf46c"
   }
  }
 },
 "nbformat": 4,
 "nbformat_minor": 2
}

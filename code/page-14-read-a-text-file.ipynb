{
 "cells": [
  {
   "cell_type": "markdown",
   "source": [
    "#### محمود امین طوسی - درس متن‌کاوی\n",
    " مثال صفحه ۱۴ کتاب \n",
    " \n",
    " Natural Language Processing with Python"
   ],
   "metadata": {}
  },
  {
   "cell_type": "code",
   "execution_count": 2,
   "source": [
    "fileName = \"../data/Anne_of_Green_Gables.txt\"\r\n",
    "for line in open(fileName):\r\n",
    "    for word in line.split():\r\n",
    "        if word.endswith('ert'):\r\n",
    "            print(word)"
   ],
   "outputs": [
    {
     "output_type": "stream",
     "name": "stdout",
     "text": [
      "Cuthbert\n",
      "Cuthbert\n",
      "Concert\n",
      "Concert\n",
      "Concert\n",
      "Cuthbert\n",
      "Cuthbert\n",
      "Cuthbert\n",
      "Cuthbert\n",
      "Cuthbert\n",
      "Cuthbert\n",
      "Cuthbert\n",
      "Cuthbert\n",
      "Robert\n",
      "Cuthbert\n",
      "Cuthbert\n",
      "Cuthbert\n",
      "Cuthbert\n",
      "Cuthbert\n",
      "Robert\n",
      "Robert\n",
      "Cuthbert\n",
      "Cuthbert\n",
      "Cuthbert\n",
      "Gilbert\n",
      "“Gilbert\n",
      "Gilbert\n",
      "Gilbert\n",
      "Gilbert\n",
      "Gilbert\n",
      "Gilbert\n",
      "Gilbert\n",
      "Gilbert\n",
      "Gilbert\n",
      "Gilbert\n",
      "Gilbert\n",
      "Gilbert\n",
      "Gilbert\n",
      "Gilbert\n",
      "Gilbert\n",
      "Gilbert\n",
      "Gilbert\n",
      "“Gilbert\n",
      "Gilbert\n",
      "Gilbert\n",
      "Gilbert\n",
      "Gilbert\n",
      "Gilbert\n",
      "Gilbert\n",
      "Gilbert\n",
      "Cuthbert\n",
      "Gilbert\n",
      "Gilbert\n",
      "Gilbert\n",
      "Gilbert\n",
      "Gilbert\n",
      "Gilbert\n",
      "Gilbert\n",
      "Gilbert\n",
      "Gilbert\n",
      "Cuthbert\n",
      "Gilbert\n",
      "Concert\n",
      "concert\n",
      "concert\n",
      "concert\n",
      "Gilbert\n",
      "concert\n",
      "concert\n",
      "Gilbert\n",
      "Gilbert\n",
      "Cuthbert\n",
      "Cuthbert\n",
      "Cuthbert\n",
      "concert\n",
      "concert\n",
      "Concert\n",
      "concert\n",
      "concert\n",
      "Cuthbert\n",
      "Cuthbert\n",
      "concert\n",
      "“Gilbert\n",
      "concert\n",
      "concert\n",
      "concert\n",
      "concert\n",
      "alert\n",
      "Gilbert\n",
      "Gilbert\n",
      "Gilbert\n",
      "Gilbert\n",
      "Gilbert\n",
      "Gilbert\n",
      "Gilbert\n",
      "Gilbert\n",
      "Gilbert\n",
      "Gilbert\n",
      "Gilbert\n",
      "Cuthbert\n",
      "concert\n",
      "concert\n",
      "Cuthbert\n",
      "Gilbert\n",
      "Gilbert\n",
      "Gilbert\n",
      "Gilbert\n",
      "Gilbert\n",
      "Gilbert\n",
      "Gilbert\n",
      "Gilbert\n",
      "concert\n",
      "Cuthbert\n",
      "Cuthbert\n",
      "Gilbert\n",
      "Gilbert\n",
      "Gilbert\n",
      "Gilbert\n",
      "Gilbert\n",
      "Gilbert\n",
      "Gilbert\n",
      "Concert\n",
      "concert\n",
      "concert\n",
      "concert\n",
      "concert\n",
      "concert\n",
      "Gilbert\n",
      "Gilbert\n",
      "Gilbert\n",
      "concert\n",
      "Gilbert\n",
      "“Gilbert\n",
      "Gilbert\n",
      "Gilbert\n",
      "Gilbert\n",
      "Gilbert\n",
      "Gilbert\n",
      "Gilbert\n",
      "Gilbert\n",
      "Gilbert\n",
      "Gilbert\n",
      "three--Gilbert\n",
      "Gilbert\n",
      "Gilbert\n",
      "Gilbert\n",
      "Gilbert\n",
      "“Gilbert\n",
      "Gilbert\n",
      "Cuthbert\n",
      "Cuthbert\n",
      "Cuthbert\n",
      "“Gilbert\n",
      "Gilbert\n",
      "inert\n",
      "Gilbert\n",
      "Gilbert\n",
      "Gilbert\n",
      "Gilbert\n",
      "Cuthbert\n",
      "Gilbert\n",
      "“Gilbert\n",
      "Gilbert\n"
     ]
    }
   ],
   "metadata": {
    "tags": []
   }
  },
  {
   "cell_type": "code",
   "execution_count": 3,
   "source": [
    "import io\r\n",
    "file = io.open(fileName)\r\n",
    "matn = file.read()\r\n",
    "file.close()"
   ],
   "outputs": [],
   "metadata": {}
  },
  {
   "cell_type": "code",
   "execution_count": 5,
   "source": [
    "# matn\r\n",
    "# print(len(matn))"
   ],
   "outputs": [],
   "metadata": {}
  },
  {
   "cell_type": "code",
   "execution_count": 4,
   "source": [
    "import nltk\r\n",
    "word_tok = nltk.word_tokenize(matn)\r\n",
    "txt = nltk.text.Text(word_tok)\r\n",
    "print(len(txt))"
   ],
   "outputs": [
    {
     "output_type": "stream",
     "name": "stdout",
     "text": [
      "126992\n"
     ]
    }
   ],
   "metadata": {
    "tags": []
   }
  },
  {
   "cell_type": "code",
   "execution_count": 5,
   "source": [
    "txt.similar(\"Green\")"
   ],
   "outputs": [
    {
     "output_type": "stream",
     "name": "stdout",
     "text": [
      "time lovely road hollow door other best lane yard expression eyes face\n",
      "table morning school and the to tea new\n"
     ]
    }
   ],
   "metadata": {
    "tags": []
   }
  },
  {
   "cell_type": "code",
   "execution_count": 11,
   "source": [
    "txt.common_contexts([\"Anne\",\"diana\"])"
   ],
   "outputs": [
    {
     "output_type": "stream",
     "name": "stdout",
     "text": [
      "of_s in_s on_s said_i said_with oh_i that_was that_s if_had said_diana\n",
      "and_s that_and you_said said_reproachfully and_found and_went said_who\n",
      "when_was by_s said_it\n"
     ]
    }
   ],
   "metadata": {
    "tags": []
   }
  },
  {
   "cell_type": "code",
   "execution_count": 7,
   "source": [
    "txt.concordance(\"green\")"
   ],
   "outputs": [
    {
     "output_type": "stream",
     "name": "stdout",
     "text": [
      "Displaying 25 of 131 matches:\n",
      "Title : Anne of Green Gables Author : Lucy Maud Montgomery\n",
      " 6 , 2016 Language : English ANNE OF GREEN GABLES By Lucy Maud Montgomery Table\n",
      "t Is Surprised CHAPTER IV Morning at Green Gables CHAPTER V Anne ’ s History CH\n",
      "XXXVIII The Bend in the road ANNE OF GREEN GABLES CHAPTER I. Mrs. Rachel Lynde \n",
      "the big red brook field away over by Green Gables . Mrs. Rachel knew that he ou\n",
      "spoiled . “ I ’ ll just step over to Green Gables after tea and find out from M\n",
      "oods when he founded his homestead . Green Gables was built at the furthest edg\n",
      "out of the lane into the backyard of Green Gables . Very green and neat and pre\n",
      " the backyard of Green Gables . Very green and neat and precise was that yard ,\n",
      "hen bidden to do so . The kitchen at Green Gables was a cheerful apartment -- o\n",
      "l mystery about quiet , unmysterious Green Gables . “ Good evening , Rachel , ”\n",
      " say I didn ’ t warn you if he burns Green Gables down or puts strychnine in th\n",
      "seems uncanny to think of a child at Green Gables somehow ; there ’ s never bee\n",
      " and so were her eyes , which looked green in some lights and moods and gray in\n",
      "pose you are Mr. Matthew Cuthbert of Green Gables ? ” she said in a peculiarly \n",
      "deferred until he was safely back at Green Gables . “ I ’ m sorry I was late , \n",
      "s. Spencer said your place was named Green Gables . I asked her all about it . \n",
      "you ? Is there a brook anywhere near Green Gables ? I forgot to ask Mrs. Spence\n",
      "ings so much -- the freckles and the green eyes and my skinniness . I can imagi\n",
      "ings of crocus and rose and ethereal green , with other elusive tintings for wh\n",
      "hat big bush behind it you could see Green Gables from here . But we have to go\n",
      "’ re pretty near home now . That ’ s Green Gables over -- ” “ Oh , don ’ t tell\n",
      "p the hill and into the long lane of Green Gables . By the time they arrived at\n",
      "f to sleep . CHAPTER IV . Morning at Green Gables |IT was broad daylight when A\n",
      "en a horrible remembrance . This was Green Gables and they didn ’ t want her be\n"
     ]
    }
   ],
   "metadata": {
    "tags": []
   }
  },
  {
   "cell_type": "code",
   "execution_count": 8,
   "source": [
    "txt.dispersion_plot([\"Anne\",\"Diana\",\"Gilbert\"])"
   ],
   "outputs": [
    {
     "output_type": "display_data",
     "data": {
      "image/png": "[encoded data removed]",
      "text/plain": [
       "<Figure size 432x288 with 1 Axes>"
      ]
     },
     "metadata": {
      "needs_background": "light"
     }
    }
   ],
   "metadata": {}
  },
  {
   "cell_type": "code",
   "execution_count": 9,
   "source": [
    "txt.generate()"
   ],
   "outputs": [
    {
     "output_type": "stream",
     "name": "stderr",
     "text": [
      "Building ngram index...\n"
     ]
    },
    {
     "output_type": "stream",
     "name": "stdout",
     "text": [
      "m a dreadfully wicked to swear , ” said Anne , sobbingly . -- so --\n",
      "like a star Remember that . and me to cook but I couldn ’ t let you go\n",
      "pitying me . As for Cordelia , she asserted , was entirely unsuited to\n",
      "this amazing piece of blue sky that looks as if we get a word was said\n",
      "about you after something you ’ re to have the old inrush of gladness\n",
      "when she sat , drabbled and furious , in a lunatic asylum . up here\n",
      "one day I was pleased to accept\n"
     ]
    },
    {
     "output_type": "execute_result",
     "data": {
      "text/plain": [
       "'m a dreadfully wicked to swear , ” said Anne , sobbingly . -- so --\\nlike a star Remember that . and me to cook but I couldn ’ t let you go\\npitying me . As for Cordelia , she asserted , was entirely unsuited to\\nthis amazing piece of blue sky that looks as if we get a word was said\\nabout you after something you ’ re to have the old inrush of gladness\\nwhen she sat , drabbled and furious , in a lunatic asylum . up here\\none day I was pleased to accept'"
      ]
     },
     "metadata": {},
     "execution_count": 9
    }
   ],
   "metadata": {
    "tags": []
   }
  }
 ],
 "metadata": {
  "kernelspec": {
   "name": "python3",
   "display_name": "Python 3.6.10 64-bit ('tf1': conda)"
  },
  "language_info": {
   "codemirror_mode": {
    "name": "ipython",
    "version": 3
   },
   "file_extension": ".py",
   "mimetype": "text/x-python",
   "name": "python",
   "nbconvert_exporter": "python",
   "pygments_lexer": "ipython3",
   "version": "3.6.10"
  },
  "interpreter": {
   "hash": "31d2cf8d87e05a12ad31dd0d4a882f00d5cdd732dacde02c9056fc8c7bf56e76"
  }
 },
 "nbformat": 4,
 "nbformat_minor": 2
}
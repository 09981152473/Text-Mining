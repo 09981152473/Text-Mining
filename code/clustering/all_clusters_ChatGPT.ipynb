{
 "cells": [
  {
   "cell_type": "code",
   "execution_count": 1,
   "metadata": {},
   "outputs": [
    {
     "name": "stdout",
     "output_type": "stream",
     "text": [
      "[([1], [2, 3]), ([2], [1, 3]), ([1, 2], [3]), ([3], [1, 2]), ([1, 3], [2]), ([2, 3], [1])]\n"
     ]
    }
   ],
   "source": [
    "def cluster(A):\n",
    "    n = len(A)\n",
    "    result = []\n",
    "    for i in range(1, 2**n-1):\n",
    "        subset1 = []\n",
    "        subset2 = []\n",
    "        for j in range(n):\n",
    "            if i & (1 << j):\n",
    "                subset1.append(A[j])\n",
    "            else:\n",
    "                subset2.append(A[j])\n",
    "        result.append((subset1, subset2))\n",
    "    return result\n",
    "\n",
    "# Example usage\n",
    "A = [1, 2, 3]\n",
    "print(cluster(A))\n",
    "# Output: [([1], [2, 3]), ([2], [1, 3]), ([1, 2], [3]), ([3], [1, 2]), ([1, 3], [2]), ([2, 3], [1]), ([1, 2, 3], [])]"
   ]
  },
  {
   "cell_type": "code",
   "execution_count": null,
   "metadata": {},
   "outputs": [],
   "source": []
  }
 ],
 "metadata": {
  "kernelspec": {
   "display_name": "pth",
   "language": "python",
   "name": "python3"
  },
  "language_info": {
   "codemirror_mode": {
    "name": "ipython",
    "version": 3
   },
   "file_extension": ".py",
   "mimetype": "text/x-python",
   "name": "python",
   "nbconvert_exporter": "python",
   "pygments_lexer": "ipython3",
   "version": "3.7.11"
  },
  "orig_nbformat": 4
 },
 "nbformat": 4,
 "nbformat_minor": 2
}

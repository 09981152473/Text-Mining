{
 "cells": [
  {
   "attachments": {},
   "cell_type": "markdown",
   "metadata": {},
   "source": [
    "# ChatGPT"
   ]
  },
  {
   "cell_type": "code",
   "execution_count": 1,
   "metadata": {},
   "outputs": [
    {
     "name": "stdout",
     "output_type": "stream",
     "text": [
      "[([1], [2, 3]), ([2], [1, 3]), ([1, 2], [3]), ([3], [1, 2]), ([1, 3], [2]), ([2, 3], [1])]\n"
     ]
    }
   ],
   "source": [
    "def cluster(A):\n",
    "    n = len(A)\n",
    "    result = []\n",
    "    for i in range(1, 2**n-1):\n",
    "        subset1 = []\n",
    "        subset2 = []\n",
    "        for j in range(n):\n",
    "            if i & (1 << j):\n",
    "                subset1.append(A[j])\n",
    "            else:\n",
    "                subset2.append(A[j])\n",
    "        result.append((subset1, subset2))\n",
    "    return result\n",
    "\n",
    "# Example usage\n",
    "A = [1, 2, 3]\n",
    "print(cluster(A))\n",
    "# Output: [([1], [2, 3]), ([2], [1, 3]), ([1, 2], [3]), ([3], [1, 2]), ([1, 3], [2]), ([2, 3], [1]), ([1, 2, 3], [])]"
   ]
  },
  {
   "attachments": {},
   "cell_type": "markdown",
   "metadata": {},
   "source": [
    "# https://chatbot.theb.ai/"
   ]
  },
  {
   "cell_type": "code",
   "execution_count": 2,
   "metadata": {},
   "outputs": [],
   "source": [
    "from itertools import combinations\n",
    "\n",
    "def get_clusterings(A):\n",
    "    clusterings = []\n",
    "    n = len(A)\n",
    "    for i in range(1, n):\n",
    "        for c in combinations(range(n), i):\n",
    "            clusterings.append([A[j] if j in c else None for j in range(n)])\n",
    "    return clusterings\n"
   ]
  },
  {
   "cell_type": "code",
   "execution_count": 3,
   "metadata": {},
   "outputs": [
    {
     "name": "stdout",
     "output_type": "stream",
     "text": [
      "[[1, None, None], [None, 2, None], [None, None, 3], [1, 2, None], [1, None, 3], [None, 2, 3]]\n"
     ]
    }
   ],
   "source": [
    "A = [1, 2, 3]\n",
    "print(get_clusterings(A))"
   ]
  },
  {
   "attachments": {},
   "cell_type": "markdown",
   "metadata": {},
   "source": [
    "But the result is not correct. for example if A=[1,2,3], The code output should be as follows:\n",
    "[([1], [2, 3]), ([2], [1, 3]), ([1, 2], [3]), ([3], [1, 2]), ([1, 3], [2]), ([2, 3], [1])]"
   ]
  },
  {
   "cell_type": "code",
   "execution_count": 4,
   "metadata": {},
   "outputs": [],
   "source": [
    "def get_clusterings(A):\n",
    "    clusterings = []\n",
    "    for i in range(1, len(A)):\n",
    "        for left in combinations(A, i):\n",
    "            right = tuple(x for x in A if x not in left)\n",
    "            clustering = (tuple(left), right)\n",
    "            clusterings.append(clustering)\n",
    "    return clusterings\n"
   ]
  },
  {
   "cell_type": "code",
   "execution_count": 5,
   "metadata": {},
   "outputs": [
    {
     "name": "stdout",
     "output_type": "stream",
     "text": [
      "[((1,), (2, 3)), ((2,), (1, 3)), ((3,), (1, 2)), ((1, 2), (3,)), ((1, 3), (2,)), ((2, 3), (1,))]\n"
     ]
    }
   ],
   "source": [
    "print(get_clusterings(A))"
   ]
  },
  {
   "cell_type": "code",
   "execution_count": 7,
   "metadata": {},
   "outputs": [
    {
     "name": "stdout",
     "output_type": "stream",
     "text": [
      "6 ((1,), (2, 3))\n"
     ]
    }
   ],
   "source": [
    "C = get_clusterings(A)\n",
    "print(len(C), C[0])"
   ]
  },
  {
   "attachments": {},
   "cell_type": "markdown",
   "metadata": {},
   "source": [
    "Could you write a code to produce all clustering forms into k clusters?"
   ]
  },
  {
   "cell_type": "markdown",
   "metadata": {},
   "source": [
    "theb.ai"
   ]
  },
  {
   "cell_type": "code",
   "execution_count": 9,
   "metadata": {},
   "outputs": [],
   "source": [
    "from itertools import combinations\n",
    "\n",
    "def get_clusterings(A, k):\n",
    "    if k == 1:\n",
    "        return [(tuple(A),)]\n",
    "    n = len(A)\n",
    "    clusterings = []\n",
    "    for c in combinations(range(1, n), k - 1):\n",
    "        indices = [0] + list(c) + [n]\n",
    "        clusters = [A[indices[i]:indices[i+1]] for i in range(k)]\n",
    "        clusterings.append(tuple(clusters))\n",
    "    return clusterings\n"
   ]
  },
  {
   "cell_type": "code",
   "execution_count": 12,
   "metadata": {},
   "outputs": [
    {
     "name": "stdout",
     "output_type": "stream",
     "text": [
      "3 [([1], [2], [3, 4]), ([1], [2, 3], [4]), ([1, 2], [3], [4])]\n"
     ]
    }
   ],
   "source": [
    "A = [1,2,3,4]\n",
    "C = get_clusterings(A,3)\n",
    "print(len(C), C[:3])"
   ]
  },
  {
   "attachments": {},
   "cell_type": "markdown",
   "metadata": {},
   "source": [
    "And the solution of openai:"
   ]
  },
  {
   "cell_type": "code",
   "execution_count": 14,
   "metadata": {},
   "outputs": [
    {
     "name": "stdout",
     "output_type": "stream",
     "text": [
      "[[1], [2], [3, 4]]\n",
      "[[1], [2, 3], [4]]\n",
      "[[1, 2], [3], [4]]\n"
     ]
    }
   ],
   "source": [
    "import itertools\n",
    "\n",
    "def all_partitions(A, k):\n",
    "    n = len(A)\n",
    "    for partition in itertools.combinations(range(1, n), k - 1):\n",
    "        subsets = []\n",
    "        prev = 0\n",
    "        for i in partition:\n",
    "            subsets.append(A[prev:i])\n",
    "            prev = i\n",
    "        subsets.append(A[prev:n])\n",
    "        if all(subset for subset in subsets):\n",
    "            yield subsets\n",
    "\n",
    "# example usage\n",
    "A = [1, 2, 3, 4]\n",
    "k = 3\n",
    "for partition in all_partitions(A, k):\n",
    "    print(partition)\n"
   ]
  },
  {
   "cell_type": "code",
   "execution_count": null,
   "metadata": {},
   "outputs": [],
   "source": []
  }
 ],
 "metadata": {
  "kernelspec": {
   "display_name": "pth",
   "language": "python",
   "name": "python3"
  },
  "language_info": {
   "codemirror_mode": {
    "name": "ipython",
    "version": 3
   },
   "file_extension": ".py",
   "mimetype": "text/x-python",
   "name": "python",
   "nbconvert_exporter": "python",
   "pygments_lexer": "ipython3",
   "version": "3.7.11"
  },
  "orig_nbformat": 4
 },
 "nbformat": 4,
 "nbformat_minor": 2
}

{
 "cells": [
  {
   "cell_type": "markdown",
   "metadata": {
    "colab_type": "text",
    "id": "0CJmMyBqhnBt"
   },
   "source": [
    "# محمود امین طوسی - درس متن کاوی \n",
    "\n",
    "پردازش متن فارسی "
   ]
  },
  {
   "cell_type": "code",
   "execution_count": 108,
   "metadata": {
    "colab": {
     "base_uri": "https://localhost:8080/",
     "height": 34
    },
    "colab_type": "code",
    "executionInfo": {
     "elapsed": 7166,
     "status": "ok",
     "timestamp": 1552153046161,
     "user": {
      "displayName": "Mahmood Amintoosi",
      "photoUrl": "https://lh4.googleusercontent.com/-L9kqNgEMq4Q/AAAAAAAAAAI/AAAAAAAACn4/2zKYeoGn0fI/s64/photo.jpg",
      "userId": "06389092743998374259"
     },
     "user_tz": -210
    },
    "id": "VHk4CdnZh43H",
    "outputId": "098dc95a-bccd-4f9a-c829-ccf55914cd4b"
   },
   "outputs": [],
   "source": [
    "# # Load the Drive helper and mount\n",
    "# from google.colab import drive\n",
    "# drive.mount('/content/drive')"
   ]
  },
  {
   "cell_type": "code",
   "execution_count": 2,
   "metadata": {
    "colab": {},
    "colab_type": "code",
    "id": "33HO_5R8hnBv"
   },
   "outputs": [],
   "source": [
    "from __future__ import unicode_literals\n",
    "import io\n",
    "filename = '../data/Nahj.txt'\n",
    "file = io.open(filename, encoding='utf-8', errors='ignore')\n",
    "matn = file.read()\n",
    "file.close()"
   ]
  },
  {
   "cell_type": "code",
   "execution_count": 3,
   "metadata": {
    "colab": {
     "base_uri": "https://localhost:8080/",
     "height": 34
    },
    "colab_type": "code",
    "executionInfo": {
     "elapsed": 761,
     "status": "ok",
     "timestamp": 1552201217068,
     "user": {
      "displayName": "Mahmood Amintoosi",
      "photoUrl": "https://lh4.googleusercontent.com/-L9kqNgEMq4Q/AAAAAAAAAAI/AAAAAAAACn4/2zKYeoGn0fI/s64/photo.jpg",
      "userId": "06389092743998374259"
     },
     "user_tz": -210
    },
    "id": "qQf8SN6khnBy",
    "outputId": "c5b8a24e-2568-4bbb-cff9-76980449f547"
   },
   "outputs": [
    {
     "data": {
      "text/plain": [
       "680528"
      ]
     },
     "execution_count": 3,
     "metadata": {},
     "output_type": "execute_result"
    }
   ],
   "source": [
    "len(matn)"
   ]
  },
  {
   "cell_type": "code",
   "execution_count": 4,
   "metadata": {
    "colab": {},
    "colab_type": "code",
    "id": "fhJBZccxhnB3"
   },
   "outputs": [],
   "source": [
    "import hazm"
   ]
  },
  {
   "cell_type": "code",
   "execution_count": 5,
   "metadata": {
    "colab": {
     "base_uri": "https://localhost:8080/",
     "height": 87
    },
    "colab_type": "code",
    "executionInfo": {
     "elapsed": 758,
     "status": "ok",
     "timestamp": 1552201334957,
     "user": {
      "displayName": "Mahmood Amintoosi",
      "photoUrl": "https://lh4.googleusercontent.com/-L9kqNgEMq4Q/AAAAAAAAAAI/AAAAAAAACn4/2zKYeoGn0fI/s64/photo.jpg",
      "userId": "06389092743998374259"
     },
     "user_tz": -210
    },
    "id": "uy2UBBL1hnB6",
    "outputId": "7b8ff3b4-f551-48c8-db4b-1fdc2e28ee55"
   },
   "outputs": [
    {
     "name": "stdout",
     "output_type": "stream",
     "text": [
      "خطبه ها ) 1 ( خطبه 1 آفرینش آسمان و زمین (امام (علیه‌السلام) در این سخنرانی از آفرینش آسمان و زمین و آفرینش انسان یاد م ی كند.) سپاس خداوندی را كه سخنوران از ستودن او عاجزند و حسابگران از شمارش نعمتهای او ناتوان و تلاشگران از ادای حق او درمانده اند.\n",
      "\n",
      "\n",
      "خدایی كه افكار ژرف اندیش، ذات او را درك نمی كنند و دست غوّاصان دریای علوم به او نخواهد رسید.\n",
      "\n",
      "\n",
      "پروردگاری كه برای صفات او حدّ و مرزی وجود ندارد و تعریف كاملی نمی توان یافت و برای خدا وقتی معیّن و سرآمدی مشخّص نمی توان تعیین كرد.\n",
      "...\n",
      "درود ما بر سیّد و مولای ما حضرت محمّد (صلی‌الله علیه و آله)، خاتم پیامبران، و هدایت کنندۀ انسا نها به بهترین راه ها، و بر اهل بیت پاک و یاران او باد، که ستارگان یقین هستند!.(\n"
     ]
    }
   ],
   "source": [
    "sentence = hazm.sent_tokenize(matn)\n",
    "print(sentence[0])\n",
    "print('\\n')\n",
    "print(sentence[1])\n",
    "print('\\n')\n",
    "print(sentence[2])\n",
    "print('...')\n",
    "print(sentence[-1])"
   ]
  },
  {
   "cell_type": "code",
   "execution_count": 6,
   "metadata": {
    "colab": {
     "base_uri": "https://localhost:8080/",
     "height": 34
    },
    "colab_type": "code",
    "executionInfo": {
     "elapsed": 798,
     "status": "ok",
     "timestamp": 1552201337094,
     "user": {
      "displayName": "Mahmood Amintoosi",
      "photoUrl": "https://lh4.googleusercontent.com/-L9kqNgEMq4Q/AAAAAAAAAAI/AAAAAAAACn4/2zKYeoGn0fI/s64/photo.jpg",
      "userId": "06389092743998374259"
     },
     "user_tz": -210
    },
    "id": "v-3X5fdEhnB9",
    "outputId": "039e5913-f19b-44f3-92ae-04b1b81ef32c"
   },
   "outputs": [
    {
     "data": {
      "text/plain": [
       "5339"
      ]
     },
     "execution_count": 6,
     "metadata": {},
     "output_type": "execute_result"
    }
   ],
   "source": [
    "len(sentence)"
   ]
  },
  {
   "cell_type": "code",
   "execution_count": 7,
   "metadata": {},
   "outputs": [
    {
     "name": "stdout",
     "output_type": "stream",
     "text": [
      "['خطبه', 'ها', ')', '1', '(', 'خطبه', '1', 'آفرینش', 'آسمان', 'و', 'زمین', '(امام', '(علیه\\u200cالسلام)', 'در', 'این', 'سخنرانی', 'از', 'آفرینش', 'آسمان', 'و', 'زمین', 'و', 'آفرینش', 'انسان', 'یاد', 'م', 'ی', 'كند.)', 'سپاس', 'خداوندی', 'را', 'كه', 'سخنوران', 'از', 'ستودن', 'او', 'عاجزند', 'و', 'حسابگران', 'از', 'شمارش', 'نعمتهای', 'او', 'ناتوان', 'و', 'تلاشگران', 'از', 'ادای', 'حق', 'او', 'درمانده', 'اند.']\n",
      "52\n"
     ]
    }
   ],
   "source": [
    "print(sentence[0].split())\n",
    "print(len(sentence[0].split()))"
   ]
  },
  {
   "cell_type": "code",
   "execution_count": 8,
   "metadata": {
    "colab": {
     "base_uri": "https://localhost:8080/",
     "height": 34
    },
    "colab_type": "code",
    "executionInfo": {
     "elapsed": 892,
     "status": "ok",
     "timestamp": 1552201339369,
     "user": {
      "displayName": "Mahmood Amintoosi",
      "photoUrl": "https://lh4.googleusercontent.com/-L9kqNgEMq4Q/AAAAAAAAAAI/AAAAAAAACn4/2zKYeoGn0fI/s64/photo.jpg",
      "userId": "06389092743998374259"
     },
     "user_tz": -210
    },
    "id": "i27vfa2JhnB_",
    "outputId": "d7ba731f-1ee8-4e9a-dd8b-6416a0899cad"
   },
   "outputs": [
    {
     "name": "stdout",
     "output_type": "stream",
     "text": [
      "['خطبه', 'ها', ')', '1', '(', 'خطبه', '1', 'آفرینش', 'آسمان', 'و', 'زمین', '(', 'امام', '(', 'علیه\\u200cالسلام', ')', 'در', 'این', 'سخنرانی', 'از', 'آفرینش', 'آسمان', 'و', 'زمین', 'و', 'آفرینش', 'انسان', 'یاد', 'م', 'ی', 'كند', '.', ')', 'سپاس', 'خداوندی', 'را', 'كه', 'سخنوران', 'از', 'ستودن', 'او', 'عاجزند', 'و', 'حسابگران', 'از', 'شمارش', 'نعمتهای', 'او', 'ناتوان', 'و', 'تلاشگران', 'از', 'ادای', 'حق', 'او', 'درمانده', 'اند', '.']\n",
      "58\n"
     ]
    }
   ],
   "source": [
    "sentence_word = [hazm.word_tokenize(sent) for sent in sentence]\n",
    "print(sentence_word[0])\n",
    "print(len(sentence_word[0]))"
   ]
  },
  {
   "cell_type": "code",
   "execution_count": 9,
   "metadata": {
    "colab": {
     "base_uri": "https://localhost:8080/",
     "height": 34
    },
    "colab_type": "code",
    "executionInfo": {
     "elapsed": 840,
     "status": "ok",
     "timestamp": 1552201341163,
     "user": {
      "displayName": "Mahmood Amintoosi",
      "photoUrl": "https://lh4.googleusercontent.com/-L9kqNgEMq4Q/AAAAAAAAAAI/AAAAAAAACn4/2zKYeoGn0fI/s64/photo.jpg",
      "userId": "06389092743998374259"
     },
     "user_tz": -210
    },
    "id": "e3SJYWHVhnCB",
    "outputId": "a8b40fd9-43aa-406a-b817-e6122b77adab"
   },
   "outputs": [
    {
     "data": {
      "text/plain": [
       "5339"
      ]
     },
     "execution_count": 9,
     "metadata": {},
     "output_type": "execute_result"
    }
   ],
   "source": [
    "len(sentence_word)"
   ]
  },
  {
   "cell_type": "code",
   "execution_count": 10,
   "metadata": {
    "colab": {
     "base_uri": "https://localhost:8080/",
     "height": 34
    },
    "colab_type": "code",
    "executionInfo": {
     "elapsed": 772,
     "status": "ok",
     "timestamp": 1552201342895,
     "user": {
      "displayName": "Mahmood Amintoosi",
      "photoUrl": "https://lh4.googleusercontent.com/-L9kqNgEMq4Q/AAAAAAAAAAI/AAAAAAAACn4/2zKYeoGn0fI/s64/photo.jpg",
      "userId": "06389092743998374259"
     },
     "user_tz": -210
    },
    "id": "ibSObSYchnCF",
    "outputId": "f6b48d97-eb7c-4c20-b117-df76eacc175e"
   },
   "outputs": [
    {
     "name": "stdout",
     "output_type": "stream",
     "text": [
      "['خطبه ها ) 1 ( خطبه 1 آفرینش آسمان و زمین (امام (علیه\\u200cالسلام) در این سخنرانی از آفرینش آسمان و زمین و آفرینش انسان یاد م ی كند.) سپاس خداوندی را كه سخنوران از ستودن او عاجزند و حسابگران از شمارش نعمتهای او ناتوان و تلاشگران از ادای حق او درمانده اند.', 'خدایی كه افكار ژرف اندیش، ذات او را درك نمی كنند و دست غوّاصان دریای علوم به او نخواهد رسید.']\n"
     ]
    }
   ],
   "source": [
    "sent_tok = hazm.sent_tokenize(matn)\n",
    "len(sent_tok)\n",
    "print(sent_tok[0:2])"
   ]
  },
  {
   "cell_type": "code",
   "execution_count": 11,
   "metadata": {
    "colab": {
     "base_uri": "https://localhost:8080/",
     "height": 70
    },
    "colab_type": "code",
    "executionInfo": {
     "elapsed": 520,
     "status": "ok",
     "timestamp": 1552201344348,
     "user": {
      "displayName": "Mahmood Amintoosi",
      "photoUrl": "https://lh4.googleusercontent.com/-L9kqNgEMq4Q/AAAAAAAAAAI/AAAAAAAACn4/2zKYeoGn0fI/s64/photo.jpg",
      "userId": "06389092743998374259"
     },
     "user_tz": -210
    },
    "id": "Gk6TjVr8hnCH",
    "outputId": "0335fbc5-3f4c-40bd-cd0e-9f8e0935a53f"
   },
   "outputs": [
    {
     "name": "stdout",
     "output_type": "stream",
     "text": [
      "168178\n",
      "['ها', ')', '1', '(', 'خطبه', '1', 'آفرینش', 'آسمان']\n",
      "<class 'list'>\n"
     ]
    }
   ],
   "source": [
    "word_tok = hazm.word_tokenize(matn)\n",
    "print(len(word_tok))\n",
    "print(word_tok[1:9])\n",
    "print(type(word_tok))"
   ]
  },
  {
   "cell_type": "code",
   "execution_count": 12,
   "metadata": {
    "colab": {
     "base_uri": "https://localhost:8080/",
     "height": 492
    },
    "colab_type": "code",
    "executionInfo": {
     "elapsed": 755,
     "status": "ok",
     "timestamp": 1552201348636,
     "user": {
      "displayName": "Mahmood Amintoosi",
      "photoUrl": "https://lh4.googleusercontent.com/-L9kqNgEMq4Q/AAAAAAAAAAI/AAAAAAAACn4/2zKYeoGn0fI/s64/photo.jpg",
      "userId": "06389092743998374259"
     },
     "user_tz": -210
    },
    "id": "lUiQG8IohnCK",
    "outputId": "cca8109a-fe22-4b6a-8ed9-4f290a31759b"
   },
   "outputs": [
    {
     "name": "stdout",
     "output_type": "stream",
     "text": [
      "168178\n",
      "Displaying 25 of 135 matches:\n",
      " هرگز ! ای پسر عبّاس ، شعله ای از آتش دل بود ، زبانه كشید و فرو نشست ، ) ابن ع\n",
      "طان نیز آنها را دام خود قرار داد و در دل های آنان 15 خطبه ها ) 8 9 10 ( تخم گذ\n",
      "بیر ، می پندارد با دست بیعت كرد نه با دل ، پس به بیعت با من اقرار كرده ، ولی م\n",
      "مام ( علیه‌السلام ) پرسید : آیا فكر و دل برادرت با ما بود ؟ . گفت : آری . امام\n",
      "اشته ، و از راه راست دور افتاده_است ؛ دل او شیفتۀ بدعت است و مردم را گمراه كرد\n",
      "وه آمده ، و من از آنان به ستوه آمدم ، دل شكسته ام ، به جای آنان 28 خطبه ها ) 2\n",
      "بدتر از من بر آنها مسلّط كن . خدایا ! دل های آنان را ، آن چنان كه نمك در آب حل\n",
      " مصیبت می شود و كوچك و ذلیل می گردد . دل او در پردۀ گمراهی مانده و حق از او رو\n",
      "ار سرانجام آن شد . خدا شما را بكشد كه دل من از دست شما پر خون ، و سین هام از خ\n",
      "ه های هستی بر وجود او گواهی م یدهند و دل های منكران را بر اقرار به وجودش واداش\n",
      "یترسم ، اندك است . به خدا سوگند ! اگر دل های شما از ترس آب شود ، و از چش مهایت\n",
      " درجات من و نجات شماست ، امّا هرگز در دل از من بیزاری نجویید كه من بر فطرت توح\n",
      "ای نگهدارندۀ آسمان ها ! و ای آفرینندۀ دل ها بر فطرت های خویش ! دل های رستگار و\n",
      " ای آفرینندۀ دل ها بر فطرت های خویش ! دل های رستگار و دل های شقاوت زده . گرامی\n",
      "ها بر فطرت های خویش ! دل های رستگار و دل های شقاوت زده . گرامی ترین درودها و ا\n",
      "ار ، و راه را برای جاهلان روشن ساخت و دل هایی كه در فتنه و گناه فرو رفته_بودند\n",
      " قرآن ، شناخت و بندگان خدا به آنچه در دل دارند ، پاداش داده م یشوند . خطبه 76 \n",
      "ت آخرت را به دست آورد . با خواسته های دل مبارزه كند ، آرزوهای دروغین را طرد و \n",
      "و سخنان بی فایده و خواست ههای ب یمورد دل ، و لغز شهای زبان را . خطبه 79 پرهیز \n",
      "مواره تیره ، و گل آلود است . منظر های دل فریب و سرانجامی خطرناك دارد . فریبنده\n",
      "ن . آن هنگام كه نفرت دارندگان ، به آن دل بستند و بیگانگان به آن اطمینان كردند \n",
      "یب بسته شده و آرزوها قطع گردیده است . دل ها آرام ، صداها آهسته ، عرق از گونه ه\n",
      "ا ، و پندهای رسایی وجود دارد ، اگر در دل های پاك بنشیند ، و در گوش های شنوا جا\n",
      "ار دارند ؟ با اینكه هنگام جدایی و تپش دل ها نزدیك است كه سوزش درد را چشیده ، و\n",
      "آنها را دنبال می كنید ؟ امّا افسوس كه دل ها سخت شده ، پند نمی پذیرد ، و از رشد\n"
     ]
    }
   ],
   "source": [
    "import nltk\n",
    "txt = nltk.text.Text(word_tok)\n",
    "print(len(txt))\n",
    "txt.concordance(\"دل\")"
   ]
  },
  {
   "cell_type": "code",
   "execution_count": 13,
   "metadata": {
    "colab": {
     "base_uri": "https://localhost:8080/",
     "height": 34
    },
    "colab_type": "code",
    "executionInfo": {
     "elapsed": 769,
     "status": "ok",
     "timestamp": 1552201387108,
     "user": {
      "displayName": "Mahmood Amintoosi",
      "photoUrl": "https://lh4.googleusercontent.com/-L9kqNgEMq4Q/AAAAAAAAAAI/AAAAAAAACn4/2zKYeoGn0fI/s64/photo.jpg",
      "userId": "06389092743998374259"
     },
     "user_tz": -210
    },
    "id": "XYrNN_bMjq6F",
    "outputId": "f97fdc56-d42f-40df-bc27-b817dd14d4ad"
   },
   "outputs": [
    {
     "data": {
      "text/plain": [
       "<Text: خطبه ها ) 1 ( خطبه 1 آفرینش...>"
      ]
     },
     "execution_count": 13,
     "metadata": {},
     "output_type": "execute_result"
    }
   ],
   "source": [
    "txt"
   ]
  },
  {
   "cell_type": "code",
   "execution_count": 14,
   "metadata": {
    "colab": {
     "base_uri": "https://localhost:8080/",
     "height": 17634
    },
    "colab_type": "code",
    "executionInfo": {
     "elapsed": 751,
     "status": "ok",
     "timestamp": 1552201389156,
     "user": {
      "displayName": "Mahmood Amintoosi",
      "photoUrl": "https://lh4.googleusercontent.com/-L9kqNgEMq4Q/AAAAAAAAAAI/AAAAAAAACn4/2zKYeoGn0fI/s64/photo.jpg",
      "userId": "06389092743998374259"
     },
     "user_tz": -210
    },
    "id": "scXigT6WhnCM",
    "outputId": "1657e88f-acb9-4c31-96a0-1c569f452163"
   },
   "outputs": [
    {
     "data": {
      "text/plain": [
       "FreqDist({'،': 12095, 'و': 10754, 'را': 4861, 'كه': 4422, '.': 4113, 'از': 4049, 'به': 4023, 'در': 3320, 'آن': 2086, ')': 2082, ...})"
      ]
     },
     "execution_count": 14,
     "metadata": {},
     "output_type": "execute_result"
    }
   ],
   "source": [
    "txt.vocab()"
   ]
  },
  {
   "cell_type": "code",
   "execution_count": 15,
   "metadata": {
    "colab": {
     "base_uri": "https://localhost:8080/",
     "height": 86
    },
    "colab_type": "code",
    "executionInfo": {
     "elapsed": 1501,
     "status": "ok",
     "timestamp": 1552153249308,
     "user": {
      "displayName": "Mahmood Amintoosi",
      "photoUrl": "https://lh4.googleusercontent.com/-L9kqNgEMq4Q/AAAAAAAAAAI/AAAAAAAACn4/2zKYeoGn0fI/s64/photo.jpg",
      "userId": "06389092743998374259"
     },
     "user_tz": -210
    },
    "id": "Rt9VaH3qhnCQ",
    "outputId": "f06f3476-d49d-4b97-88d7-fba20d36ca19"
   },
   "outputs": [
    {
     "name": "stdout",
     "output_type": "stream",
     "text": [
      "Displaying 2 of 2 matches:\n",
      "از سنگین باران است ، وآن كه كُند رود حالش بدتر از شتاب گیرنده می باشد ، و سران\n",
      "م در مورد چیزی نم یگویند ؛ « خوشا به حالش » جز آن كه روزگار ، روز بدی را برای \n"
     ]
    }
   ],
   "source": [
    "txt.concordance(\"حالش\")"
   ]
  },
  {
   "cell_type": "code",
   "execution_count": 16,
   "metadata": {
    "colab": {
     "base_uri": "https://localhost:8080/",
     "height": 34
    },
    "colab_type": "code",
    "executionInfo": {
     "elapsed": 2246,
     "status": "ok",
     "timestamp": 1552153260198,
     "user": {
      "displayName": "Mahmood Amintoosi",
      "photoUrl": "https://lh4.googleusercontent.com/-L9kqNgEMq4Q/AAAAAAAAAAI/AAAAAAAACn4/2zKYeoGn0fI/s64/photo.jpg",
      "userId": "06389092743998374259"
     },
     "user_tz": -210
    },
    "id": "YY_UIYIohnCX",
    "outputId": "675f2a96-2ac6-4056-958b-9cedf9cdaf1f"
   },
   "outputs": [
    {
     "name": "stdout",
     "output_type": "stream",
     "text": [
      "Displaying 25 of 130 matches:\n",
      "ش زمین را به آرامش تبدیل كرد . سرآغاز دین ، خداشناسی است ؛ و كمال شناخت خدا ، ب\n",
      "مردم در فتنه ها گرفتار شده ، رشته های دین پاره شده و ستون های ایمان و یقین ناپا\n",
      "ی ایمان و یقین ناپایدار بود . در اصول دین اختلاف داشته ، و امور مردم پراكنده بو\n",
      "تاب های آسمانی و كوه های همیشه استوار دین خدایند . خدا به وسیله اهل بیت ( علیهم\n",
      "له اهل بیت ( علیهم‌السلام ) پشت خمیدۀ دین را راست نمود و لرزش و اضطراب آن را از\n",
      "ت پیامبر ( صلی‌الله علیه و آله ) اساس دین ، و ستون های استوار یقین م یباشند . ش\n",
      "ستند و گروهی از اطاعت من سرباز زده از دین خارج شدند ، و برخی از اطاعت حق سر بر \n",
      "وردگی را در شما می نگریستم . تظاهر به دین داری شما ، پرده ای میان ما كشید ، ولی\n",
      "قیده اند ، به زودی متولّد م یشوند ، و دین و ایمان به وسیلۀ آنان تقویت م یگردد .\n",
      "شما پَست ، و پیمان شما از هم گُسسته ، دین شما دورویی ، و آب آشامیدنی شما شور و \n",
      "ءِ خدایند كه هر چه م یخواهند در احكام دین بگویند و خدا رضایت دهد ؟ . آیا خدای س\n",
      " و خدا رضایت دهد ؟ . آیا خدای سبحان ، دین كاملی فرستاد پس پیامبر ( صلی‌الله علی\n",
      "؛ من به پروردگار خویش یقین داشته و در دین خود شكّ و تردیدی ندارم . 25 خطبه ها )\n",
      " همسر و فرزند و ثروت گردد ، و هم چنان دین و شخصیت خود را نگاهدارد . همانا ثروت \n",
      "باشد . آنگاه كه شما ملّت عرب ، بدترین دین را داشته ، و در بدترین خانه زندگی می \n",
      " آورده ، و خود آمادۀ كشتار دیگرانند . دین را برای به دست آوردن مال دنیا تباه كر\n",
      "د ، امّا آن كس كه از گناه و مخالفت با دین پروا ندارد ، از فرصت ها برای نیرنگ با\n",
      "ه دیگر سلطه و ولایت یابند ، كه برخلاف دین خداست . پس اگر باطل با حق مخلوط نمی ش\n",
      "رزه مثل شما بودیم ، هرگز پایه ای برای دین استوار نمی ماند ، و شاخه ای از درخت ا\n",
      "از بیان من رساتر است . من مارقین ) از دین خارج شدگان ( را با حجّت و برهان مغلوب\n",
      "ط كه به او پاداش دهد ، و در برابر ترك دین خویش ، رشوه ای تسلیم او كند . خطبه 85\n",
      " میان شما قرار داد تا برای او و شما ، دین را به اكمال رساند ، و آنچه در قرآن نا\n",
      " مورد غبطه است و بر او رشك می برند كه دین او سالم باشد . « سعادتمند كسی است كه \n",
      "آنها زمامداران حق و یقینند ؛ پیشوایان دین و زبانهای راستی و راستگویانند ، پس با\n",
      "گار بر تو است . بدان ، آنها كه در علم دین استوارند ، خدا آنها را از فرو رفتن در\n"
     ]
    }
   ],
   "source": [
    "txt.concordance(\"دین\")"
   ]
  },
  {
   "cell_type": "code",
   "execution_count": 17,
   "metadata": {
    "colab": {
     "base_uri": "https://localhost:8080/",
     "height": 276
    },
    "colab_type": "code",
    "executionInfo": {
     "elapsed": 1507,
     "status": "ok",
     "timestamp": 1552153267155,
     "user": {
      "displayName": "Mahmood Amintoosi",
      "photoUrl": "https://lh4.googleusercontent.com/-L9kqNgEMq4Q/AAAAAAAAAAI/AAAAAAAACn4/2zKYeoGn0fI/s64/photo.jpg",
      "userId": "06389092743998374259"
     },
     "user_tz": -210
    },
    "id": "51rnrwhphnCa",
    "outputId": "04a87b3c-9b69-40f8-f077-0b818f950cf3"
   },
   "outputs": [
    {
     "name": "stdout",
     "output_type": "stream",
     "text": [
      "no matches\n"
     ]
    }
   ],
   "source": [
    "# ي عربی به جای ی فارسی\n",
    "txt.concordance(\"دين\")"
   ]
  },
  {
   "cell_type": "code",
   "execution_count": 18,
   "metadata": {
    "colab": {
     "base_uri": "https://localhost:8080/",
     "height": 52
    },
    "colab_type": "code",
    "executionInfo": {
     "elapsed": 1584,
     "status": "ok",
     "timestamp": 1552202339338,
     "user": {
      "displayName": "Mahmood Amintoosi",
      "photoUrl": "https://lh4.googleusercontent.com/-L9kqNgEMq4Q/AAAAAAAAAAI/AAAAAAAACn4/2zKYeoGn0fI/s64/photo.jpg",
      "userId": "06389092743998374259"
     },
     "user_tz": -210
    },
    "id": "Il54nBoDhnCe",
    "outputId": "7f74c105-9de1-4b27-c531-46a319e4a3c3"
   },
   "outputs": [
    {
     "name": "stdout",
     "output_type": "stream",
     "text": [
      "آن آنها دنیا خدا زندگی مردم تو دست آنان آنچه شما حكومت ما زمین از به\n",
      "خود راه زبان كار\n"
     ]
    }
   ],
   "source": [
    "txt.similar('دین')"
   ]
  },
  {
   "cell_type": "code",
   "execution_count": 19,
   "metadata": {
    "colab": {
     "base_uri": "https://localhost:8080/",
     "height": 52
    },
    "colab_type": "code",
    "executionInfo": {
     "elapsed": 770,
     "status": "ok",
     "timestamp": 1552202707869,
     "user": {
      "displayName": "Mahmood Amintoosi",
      "photoUrl": "https://lh4.googleusercontent.com/-L9kqNgEMq4Q/AAAAAAAAAAI/AAAAAAAACn4/2zKYeoGn0fI/s64/photo.jpg",
      "userId": "06389092743998374259"
     },
     "user_tz": -210
    },
    "id": "gH7vvqhrhnCi",
    "outputId": "79a6cd65-5ed0-48d9-e405-ed3a3adfd6cc"
   },
   "outputs": [
    {
     "name": "stdout",
     "output_type": "stream",
     "text": [
      "از به بندگان فرمان برای با پیامبر اطاعت یاد كتاب نافرمانی خشنودی\n",
      "دوستان و دست رحمت دین بر گروهی خشم\n"
     ]
    }
   ],
   "source": [
    "txt.similar('رسول')"
   ]
  },
  {
   "cell_type": "code",
   "execution_count": 20,
   "metadata": {
    "colab": {
     "base_uri": "https://localhost:8080/",
     "height": 70
    },
    "colab_type": "code",
    "executionInfo": {
     "elapsed": 1017,
     "status": "ok",
     "timestamp": 1552202767927,
     "user": {
      "displayName": "Mahmood Amintoosi",
      "photoUrl": "https://lh4.googleusercontent.com/-L9kqNgEMq4Q/AAAAAAAAAAI/AAAAAAAACn4/2zKYeoGn0fI/s64/photo.jpg",
      "userId": "06389092743998374259"
     },
     "user_tz": -210
    },
    "id": "L-cMZ6vnhnCl",
    "outputId": "b8f9182a-efed-4fcf-8c32-e8d12dc64260"
   },
   "outputs": [
    {
     "name": "stdout",
     "output_type": "stream",
     "text": [
      "صلی‌الله علیه; درود خدا; حکم تها; آگاه باشید; خدای سبحان; خدا سوگند;\n",
      "قرار داد; بیت المال; رسول خدا; اهل بیت; ایراد فرمود; شهر كوفه; بندگان\n",
      "خدا; این سخنرانی; فتن هها; جمع آوری; نشان ههای; دنیای حرام; ویژگ یهای;\n",
      "بنی امیّه\n"
     ]
    }
   ],
   "source": [
    "txt.collocations()"
   ]
  },
  {
   "cell_type": "code",
   "execution_count": 21,
   "metadata": {
    "colab": {
     "base_uri": "https://localhost:8080/",
     "height": 34
    },
    "colab_type": "code",
    "executionInfo": {
     "elapsed": 772,
     "status": "ok",
     "timestamp": 1552202791863,
     "user": {
      "displayName": "Mahmood Amintoosi",
      "photoUrl": "https://lh4.googleusercontent.com/-L9kqNgEMq4Q/AAAAAAAAAAI/AAAAAAAACn4/2zKYeoGn0fI/s64/photo.jpg",
      "userId": "06389092743998374259"
     },
     "user_tz": -210
    },
    "id": "iRmArdtChnCn",
    "outputId": "7b365b8b-348a-4282-93c6-1e054cf646e1"
   },
   "outputs": [
    {
     "data": {
      "text/plain": [
       "0"
      ]
     },
     "execution_count": 21,
     "metadata": {},
     "output_type": "execute_result"
    }
   ],
   "source": [
    "txt.count('کتاب')"
   ]
  },
  {
   "cell_type": "code",
   "execution_count": 22,
   "metadata": {},
   "outputs": [
    {
     "data": {
      "text/plain": [
       "39"
      ]
     },
     "execution_count": 22,
     "metadata": {},
     "output_type": "execute_result"
    }
   ],
   "source": [
    "txt.count('كتاب')"
   ]
  },
  {
   "cell_type": "code",
   "execution_count": 23,
   "metadata": {
    "colab": {
     "base_uri": "https://localhost:8080/",
     "height": 17634
    },
    "colab_type": "code",
    "executionInfo": {
     "elapsed": 713,
     "status": "ok",
     "timestamp": 1552202792898,
     "user": {
      "displayName": "Mahmood Amintoosi",
      "photoUrl": "https://lh4.googleusercontent.com/-L9kqNgEMq4Q/AAAAAAAAAAI/AAAAAAAACn4/2zKYeoGn0fI/s64/photo.jpg",
      "userId": "06389092743998374259"
     },
     "user_tz": -210
    },
    "id": "S7MrIjTchnCp",
    "outputId": "72ebd691-ed01-4005-9fd9-1aeca4df83b3"
   },
   "outputs": [
    {
     "data": {
      "text/plain": [
       "FreqDist({'،': 12095, 'و': 10754, 'را': 4861, 'كه': 4422, '.': 4113, 'از': 4049, 'به': 4023, 'در': 3320, 'آن': 2086, ')': 2082, ...})"
      ]
     },
     "execution_count": 23,
     "metadata": {},
     "output_type": "execute_result"
    }
   ],
   "source": [
    "fdist1 = nltk.FreqDist(txt)\n",
    "fdist1"
   ]
  },
  {
   "cell_type": "code",
   "execution_count": 24,
   "metadata": {
    "colab": {
     "base_uri": "https://localhost:8080/",
     "height": 52
    },
    "colab_type": "code",
    "executionInfo": {
     "elapsed": 793,
     "status": "ok",
     "timestamp": 1552204020854,
     "user": {
      "displayName": "Mahmood Amintoosi",
      "photoUrl": "https://lh4.googleusercontent.com/-L9kqNgEMq4Q/AAAAAAAAAAI/AAAAAAAACn4/2zKYeoGn0fI/s64/photo.jpg",
      "userId": "06389092743998374259"
     },
     "user_tz": -210
    },
    "id": "qWBC6htmhnCt",
    "outputId": "8419c454-49f6-45e7-ce6d-21bfa6f58376"
   },
   "outputs": [
    {
     "name": "stdout",
     "output_type": "stream",
     "text": [
      "17\n",
      "3\n"
     ]
    }
   ],
   "source": [
    "print(fdist1['مرد'])\n",
    "print(fdist1['عباس'])"
   ]
  },
  {
   "cell_type": "code",
   "execution_count": 25,
   "metadata": {
    "colab": {
     "base_uri": "https://localhost:8080/",
     "height": 34
    },
    "colab_type": "code",
    "executionInfo": {
     "elapsed": 769,
     "status": "ok",
     "timestamp": 1552203978395,
     "user": {
      "displayName": "Mahmood Amintoosi",
      "photoUrl": "https://lh4.googleusercontent.com/-L9kqNgEMq4Q/AAAAAAAAAAI/AAAAAAAACn4/2zKYeoGn0fI/s64/photo.jpg",
      "userId": "06389092743998374259"
     },
     "user_tz": -210
    },
    "id": "PGNf_KdIkPU8",
    "outputId": "a159d817-cec2-4f2f-e31d-8b69b57865f0"
   },
   "outputs": [
    {
     "data": {
      "text/plain": [
       "'،'"
      ]
     },
     "execution_count": 25,
     "metadata": {},
     "output_type": "execute_result"
    }
   ],
   "source": [
    "fdist1.max()"
   ]
  },
  {
   "cell_type": "code",
   "execution_count": 26,
   "metadata": {
    "colab": {
     "base_uri": "https://localhost:8080/",
     "height": 365
    },
    "colab_type": "code",
    "executionInfo": {
     "elapsed": 1211,
     "status": "ok",
     "timestamp": 1552202813434,
     "user": {
      "displayName": "Mahmood Amintoosi",
      "photoUrl": "https://lh4.googleusercontent.com/-L9kqNgEMq4Q/AAAAAAAAAAI/AAAAAAAACn4/2zKYeoGn0fI/s64/photo.jpg",
      "userId": "06389092743998374259"
     },
     "user_tz": -210
    },
    "id": "WVkLukTPhnCw",
    "outputId": "771e50d1-52ba-49cd-f3b1-cd826e446247"
   },
   "outputs": [
    {
     "data": {
      "image/png": "[encoded data removed]",
      "text/plain": [
       "<Figure size 432x288 with 1 Axes>"
      ]
     },
     "metadata": {
      "needs_background": "light"
     },
     "output_type": "display_data"
    }
   ],
   "source": [
    "fdist1.plot(50, cumulative=False)"
   ]
  },
  {
   "cell_type": "code",
   "execution_count": 27,
   "metadata": {
    "colab": {
     "base_uri": "https://localhost:8080/",
     "height": 376
    },
    "colab_type": "code",
    "executionInfo": {
     "elapsed": 833,
     "status": "ok",
     "timestamp": 1552202825735,
     "user": {
      "displayName": "Mahmood Amintoosi",
      "photoUrl": "https://lh4.googleusercontent.com/-L9kqNgEMq4Q/AAAAAAAAAAI/AAAAAAAACn4/2zKYeoGn0fI/s64/photo.jpg",
      "userId": "06389092743998374259"
     },
     "user_tz": -210
    },
    "id": "dnajxRMofKFa",
    "outputId": "aca4a972-76b5-4dc7-c2e7-66697ab88cf2"
   },
   "outputs": [
    {
     "data": {
      "image/png": "[encoded data removed]",
      "text/plain": [
       "<Figure size 432x288 with 1 Axes>"
      ]
     },
     "metadata": {
      "needs_background": "light"
     },
     "output_type": "display_data"
    }
   ],
   "source": [
    "txt.dispersion_plot([\"رسول\", \"خدا\", \"دین\", \"دنیا\", \"خود\"])"
   ]
  },
  {
   "cell_type": "code",
   "execution_count": 28,
   "metadata": {
    "colab": {},
    "colab_type": "code",
    "id": "yZKStcmShnCz",
    "outputId": "5317b787-9197-4ac6-f15d-e957c2de6dca"
   },
   "outputs": [],
   "source": [
    "# nrm = hazm.Normalizer()\n",
    "# nrmlzr = nrm.normalize(matn)\n",
    "# print(len(nrmlzr))\n",
    "# print(nrmlzr[0:12])"
   ]
  },
  {
   "cell_type": "code",
   "execution_count": 29,
   "metadata": {
    "colab": {},
    "colab_type": "code",
    "id": "4EVkTIiYhnC3"
   },
   "outputs": [],
   "source": [
    "stemmer = hazm.Stemmer()\n",
    "sentence_stemed = []\n",
    "for i, sent in enumerate(sentence_word):    \n",
    "    word_list = []\n",
    "    for j, w in enumerate(sent):\n",
    "        word_list.append(stemmer.stem(w))        \n",
    "    sentence_stemed.append(word_list)"
   ]
  },
  {
   "cell_type": "code",
   "execution_count": 30,
   "metadata": {
    "colab": {},
    "colab_type": "code",
    "id": "20uXdAPwhnC5",
    "outputId": "e8864bce-5f8e-41e9-a863-0e9183081380"
   },
   "outputs": [
    {
     "name": "stdout",
     "output_type": "stream",
     "text": [
      "[['خطبه', '', ')', '1', '(', 'خطبه', '1', 'آفرین', 'آس', 'و', 'زمین', '(', 'اما', '(', 'علیه\\u200cالسلا', ')', 'در', 'این', 'سخنران', 'از', 'آفرین', 'آس', 'و', 'زمین', 'و', 'آفرین', 'انس', 'یاد', '', '', 'كند', '.', ')', 'سپاس', 'خداوند', 'را', 'كه', 'سخنور', 'از', 'ستودن', 'او', 'عاجزند', 'و', 'حسابگر', 'از', 'شمار', 'نعمت', 'او', 'ناتو', 'و', 'تلاشگر', 'از', 'ادا', 'حق', 'او', 'درمانده', 'اند', '.'], ['خدا', 'كه', 'افكار', 'ژرف', 'اند', '،', 'ذ', 'او', 'را', 'درك', 'نم', 'كنند', 'و', 'دس', 'غوّاص', 'دریا', 'علو', 'به', 'او', 'نخواهد_رسید', '.']]\n"
     ]
    }
   ],
   "source": [
    "print(sentence_stemed[0:2])"
   ]
  },
  {
   "cell_type": "code",
   "execution_count": 31,
   "metadata": {
    "colab": {},
    "colab_type": "code",
    "id": "cbIGuu3xhnC7",
    "outputId": "8d7b7733-948c-40d6-dc29-b43ef3f14d66"
   },
   "outputs": [
    {
     "data": {
      "text/plain": [
       "5339"
      ]
     },
     "execution_count": 31,
     "metadata": {},
     "output_type": "execute_result"
    }
   ],
   "source": [
    "len(sentence_stemed)"
   ]
  },
  {
   "cell_type": "code",
   "execution_count": 33,
   "metadata": {
    "colab": {},
    "colab_type": "code",
    "id": "-woqUFSShnC-"
   },
   "outputs": [],
   "source": [
    "# nrm = hazm.Normalizer()\n",
    "# text_normal = nrm.affix_spacing(matn)\n",
    "# text_normal = nrm.character_refinement(text_normal)\n",
    "# text_normal = nrm.punctuation_spacing(text_normal)"
   ]
  },
  {
   "cell_type": "code",
   "execution_count": 140,
   "metadata": {
    "colab": {
     "base_uri": "https://localhost:8080/",
     "height": 34
    },
    "colab_type": "code",
    "executionInfo": {
     "elapsed": 3037,
     "status": "ok",
     "timestamp": 1552201168423,
     "user": {
      "displayName": "Mahmood Amintoosi",
      "photoUrl": "https://lh4.googleusercontent.com/-L9kqNgEMq4Q/AAAAAAAAAAI/AAAAAAAACn4/2zKYeoGn0fI/s64/photo.jpg",
      "userId": "06389092743998374259"
     },
     "user_tz": -210
    },
    "id": "1VzBPOBxZgtP",
    "outputId": "0a50ed08-4a42-4b82-ba32-5cd98086cf8f"
   },
   "outputs": [],
   "source": [
    "# !pwd"
   ]
  },
  {
   "cell_type": "code",
   "execution_count": null,
   "metadata": {
    "colab": {},
    "colab_type": "code",
    "id": "nrzyqfs7Zins"
   },
   "outputs": [],
   "source": []
  }
 ],
 "metadata": {
  "colab": {
   "collapsed_sections": [],
   "name": "page-25-persian.ipynb",
   "provenance": [],
   "version": "0.3.2"
  },
  "kernelspec": {
   "display_name": "Python 3",
   "language": "python",
   "name": "python3"
  },
  "language_info": {
   "codemirror_mode": {
    "name": "ipython",
    "version": 3
   },
   "file_extension": ".py",
   "mimetype": "text/x-python",
   "name": "python",
   "nbconvert_exporter": "python",
   "pygments_lexer": "ipython3",
   "version": "3.7.6"
  }
 },
 "nbformat": 4,
 "nbformat_minor": 1
}

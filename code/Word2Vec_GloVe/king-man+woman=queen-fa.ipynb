{
 "cells": [
  {
   "cell_type": "markdown",
   "metadata": {},
   "source": [
    "اجرای مثال پادشاه"
   ]
  },
  {
   "cell_type": "code",
   "execution_count": 2,
   "metadata": {},
   "outputs": [],
   "source": [
    "import gensim\n",
    "model = gensim.models.KeyedVectors.load_word2vec_format('/mnt/c/temp/git/LFs/models/dml_qom_FinalModel_2016.mdl')\n",
    "result = model.most_similar(positive=['پادشاه','زن'],negative=['مرد'])"
   ]
  },
  {
   "cell_type": "code",
   "execution_count": 3,
   "metadata": {},
   "outputs": [
    {
     "name": "stdout",
     "output_type": "stream",
     "text": [
      "ملکه\n",
      "شاهنشاه\n",
      "فرمانروای\n",
      "ولیعهد\n",
      "شهبانوی\n",
      "امپراتور\n",
      "نایب‌السلطنه\n",
      "امپراتریس\n",
      "وشتی\n",
      "شاهان\n"
     ]
    }
   ],
   "source": [
    "for item in result:\n",
    "    print(item[0])"
   ]
  }
 ],
 "metadata": {
  "kernelspec": {
   "display_name": "Python 3",
   "language": "python",
   "name": "python3"
  },
  "language_info": {
   "codemirror_mode": {
    "name": "ipython",
    "version": 3
   },
   "file_extension": ".py",
   "mimetype": "text/x-python",
   "name": "python",
   "nbconvert_exporter": "python",
   "pygments_lexer": "ipython3",
   "version": "3.7.6"
  }
 },
 "nbformat": 4,
 "nbformat_minor": 4
}

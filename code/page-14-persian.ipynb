{
 "cells": [
  {
   "cell_type": "markdown",
   "metadata": {
    "colab_type": "text",
    "id": "sX3WUTrWecqP"
   },
   "source": [
    "# محمود امین طوسی - درس متن کاوی \n",
    "\n",
    "پردازش متن فارسی "
   ]
  },
  {
   "cell_type": "code",
   "execution_count": 1,
   "metadata": {
    "colab": {
     "base_uri": "https://localhost:8080/",
     "height": 125
    },
    "colab_type": "code",
    "executionInfo": {
     "elapsed": 26550,
     "status": "ok",
     "timestamp": 1552220748778,
     "user": {
      "displayName": "Mahmood Amintoosi",
      "photoUrl": "https://lh4.googleusercontent.com/-L9kqNgEMq4Q/AAAAAAAAAAI/AAAAAAAACn4/2zKYeoGn0fI/s64/photo.jpg",
      "userId": "06389092743998374259"
     },
     "user_tz": -210
    },
    "id": "fioHWpjDfHJd",
    "outputId": "4521a73d-d639-4fec-c8a8-be55592ab87a"
   },
   "outputs": [
    {
     "name": "stdout",
     "output_type": "stream",
     "text": [
      "Go to this URL in a browser: https://accounts.google.com/o/oauth2/auth?client_id=947318989803-6bn6qk8qdgf4n4g3pfee6491hc0brc4i.apps.googleusercontent.com&redirect_uri=urn%3Aietf%3Awg%3Aoauth%3A2.0%3Aoob&scope=email%20https%3A%2F%2Fwww.googleapis.com%2Fauth%2Fdocs.test%20https%3A%2F%2Fwww.googleapis.com%2Fauth%2Fdrive%20https%3A%2F%2Fwww.googleapis.com%2Fauth%2Fdrive.photos.readonly%20https%3A%2F%2Fwww.googleapis.com%2Fauth%2Fpeopleapi.readonly&response_type=code\n",
      "\n",
      "Enter your authorization code:\n",
      "··········\n",
      "Mounted at /content/drive\n"
     ]
    }
   ],
   "source": [
    "# Load the Drive helper and mount\n",
    "from google.colab import drive\n",
    "drive.mount('/content/drive')"
   ]
  },
  {
   "cell_type": "code",
   "execution_count": 0,
   "metadata": {
    "colab": {},
    "colab_type": "code",
    "id": "Wj-LSMoHf3yS"
   },
   "outputs": [],
   "source": [
    "import os "
   ]
  },
  {
   "cell_type": "code",
   "execution_count": null,
   "metadata": {
    "colab": {
     "base_uri": "https://localhost:8080/",
     "height": 34
    },
    "colab_type": "code",
    "executionInfo": {
     "elapsed": 2549,
     "status": "ok",
     "timestamp": 1552220768432,
     "user": {
      "displayName": "Mahmood Amintoosi",
      "photoUrl": "https://lh4.googleusercontent.com/-L9kqNgEMq4Q/AAAAAAAAAAI/AAAAAAAACn4/2zKYeoGn0fI/s64/photo.jpg",
      "userId": "06389092743998374259"
     },
     "user_tz": -210
    },
    "id": "2Ep6tJHvfJV8",
    "outputId": "0ef6fa01-cd91-4643-e096-90ee78f20961"
   },
   "outputs": [],
   "source": [
    "WORK_DIR = \"/content/drive/My Drive/Teaching/Text_mining\"\n",
    "os.chdir(WORK_DIR)\n",
    "!pwd"
   ]
  },
  {
   "cell_type": "code",
   "execution_count": 0,
   "metadata": {
    "colab": {},
    "colab_type": "code",
    "id": "ez01tFVRecqQ"
   },
   "outputs": [],
   "source": [
    "# from __future__ import unicode_literals\n",
    "import io\n",
    "filename = 'divan.txt'\n",
    "file = io.open(filename, encoding='utf-8-sig', errors='ignore') #encoding='utf-8',\n",
    "matn = file.read()\n",
    "file.close()"
   ]
  },
  {
   "cell_type": "code",
   "execution_count": 6,
   "metadata": {
    "colab": {
     "base_uri": "https://localhost:8080/",
     "height": 34
    },
    "colab_type": "code",
    "executionInfo": {
     "elapsed": 4036,
     "status": "ok",
     "timestamp": 1552199205811,
     "user": {
      "displayName": "Mahmood Amintoosi",
      "photoUrl": "https://lh4.googleusercontent.com/-L9kqNgEMq4Q/AAAAAAAAAAI/AAAAAAAACn4/2zKYeoGn0fI/s64/photo.jpg",
      "userId": "06389092743998374259"
     },
     "user_tz": -210
    },
    "id": "UNawALK4ecqT",
    "outputId": "3867e5c1-6bc3-48a0-b694-0a3a993f84fb"
   },
   "outputs": [
    {
     "data": {
      "text/plain": [
       "' ديوان حافظ\\nغزل   ۱\\n\\nالا يا ايها الساقی ادر کاسا و ناولها\\nکه عشق آسان نمود اول ولی افتاد مشکل\\u200cها'"
      ]
     },
     "execution_count": 6,
     "metadata": {
      "tags": []
     },
     "output_type": "execute_result"
    }
   ],
   "source": [
    "matn[0:96]"
   ]
  },
  {
   "cell_type": "code",
   "execution_count": 7,
   "metadata": {
    "colab": {
     "base_uri": "https://localhost:8080/",
     "height": 34
    },
    "colab_type": "code",
    "executionInfo": {
     "elapsed": 4017,
     "status": "ok",
     "timestamp": 1552199205812,
     "user": {
      "displayName": "Mahmood Amintoosi",
      "photoUrl": "https://lh4.googleusercontent.com/-L9kqNgEMq4Q/AAAAAAAAAAI/AAAAAAAACn4/2zKYeoGn0fI/s64/photo.jpg",
      "userId": "06389092743998374259"
     },
     "user_tz": -210
    },
    "id": "LlU9V_RQecqY",
    "outputId": "41ebaf16-d269-47cb-fad1-6f1e1db1ee39"
   },
   "outputs": [
    {
     "data": {
      "text/plain": [
       "487"
      ]
     },
     "execution_count": 7,
     "metadata": {
      "tags": []
     },
     "output_type": "execute_result"
    }
   ],
   "source": [
    "matn.count('حافظ')"
   ]
  },
  {
   "cell_type": "code",
   "execution_count": 8,
   "metadata": {
    "colab": {
     "base_uri": "https://localhost:8080/",
     "height": 34
    },
    "colab_type": "code",
    "executionInfo": {
     "elapsed": 4003,
     "status": "ok",
     "timestamp": 1552199205813,
     "user": {
      "displayName": "Mahmood Amintoosi",
      "photoUrl": "https://lh4.googleusercontent.com/-L9kqNgEMq4Q/AAAAAAAAAAI/AAAAAAAACn4/2zKYeoGn0fI/s64/photo.jpg",
      "userId": "06389092743998374259"
     },
     "user_tz": -210
    },
    "id": "nX0OftCfecqb",
    "outputId": "f5958fc4-041a-48df-f36f-7df760a042b1"
   },
   "outputs": [
    {
     "data": {
      "text/plain": [
       "False"
      ]
     },
     "execution_count": 8,
     "metadata": {
      "tags": []
     },
     "output_type": "execute_result"
    }
   ],
   "source": [
    "matn.endswith('ظ')"
   ]
  },
  {
   "cell_type": "code",
   "execution_count": 9,
   "metadata": {
    "colab": {
     "base_uri": "https://localhost:8080/",
     "height": 34
    },
    "colab_type": "code",
    "executionInfo": {
     "elapsed": 3986,
     "status": "ok",
     "timestamp": 1552199205813,
     "user": {
      "displayName": "Mahmood Amintoosi",
      "photoUrl": "https://lh4.googleusercontent.com/-L9kqNgEMq4Q/AAAAAAAAAAI/AAAAAAAACn4/2zKYeoGn0fI/s64/photo.jpg",
      "userId": "06389092743998374259"
     },
     "user_tz": -210
    },
    "id": "Xv5zRsUbecqe",
    "outputId": "56bc1ba5-9903-4f83-c252-f8a5a9c7d7fe"
   },
   "outputs": [
    {
     "data": {
      "text/plain": [
       "63836"
      ]
     },
     "execution_count": 9,
     "metadata": {
      "tags": []
     },
     "output_type": "execute_result"
    }
   ],
   "source": [
    "fa_words = matn.split()\n",
    "len(fa_words)"
   ]
  },
  {
   "cell_type": "code",
   "execution_count": 10,
   "metadata": {
    "colab": {
     "base_uri": "https://localhost:8080/",
     "height": 54
    },
    "colab_type": "code",
    "executionInfo": {
     "elapsed": 3979,
     "status": "ok",
     "timestamp": 1552199205814,
     "user": {
      "displayName": "Mahmood Amintoosi",
      "photoUrl": "https://lh4.googleusercontent.com/-L9kqNgEMq4Q/AAAAAAAAAAI/AAAAAAAACn4/2zKYeoGn0fI/s64/photo.jpg",
      "userId": "06389092743998374259"
     },
     "user_tz": -210
    },
    "id": "enjLv9TKecqi",
    "outputId": "a12c69fe-665e-4d1c-fc2b-fa6641fd7202"
   },
   "outputs": [
    {
     "name": "stdout",
     "output_type": "stream",
     "text": [
      "['حافظ', 'غزل', '۱', 'الا', 'يا', 'ايها', 'الساقی', 'ادر', 'کاسا', 'و', 'ناولها', 'که', 'عشق', 'آسان', 'نمود', 'اول', 'ولی', 'افتاد', 'مشکل\\u200cها']\n"
     ]
    }
   ],
   "source": [
    "print(fa_words[1:20])"
   ]
  },
  {
   "cell_type": "code",
   "execution_count": 11,
   "metadata": {
    "colab": {
     "base_uri": "https://localhost:8080/",
     "height": 34
    },
    "colab_type": "code",
    "executionInfo": {
     "elapsed": 3965,
     "status": "ok",
     "timestamp": 1552199205815,
     "user": {
      "displayName": "Mahmood Amintoosi",
      "photoUrl": "https://lh4.googleusercontent.com/-L9kqNgEMq4Q/AAAAAAAAAAI/AAAAAAAACn4/2zKYeoGn0fI/s64/photo.jpg",
      "userId": "06389092743998374259"
     },
     "user_tz": -210
    },
    "id": "C6bQBP3Tecql",
    "outputId": "8f94fba3-0b3b-465e-9da6-af805a30feb7"
   },
   "outputs": [
    {
     "data": {
      "text/plain": [
       "str"
      ]
     },
     "execution_count": 11,
     "metadata": {
      "tags": []
     },
     "output_type": "execute_result"
    }
   ],
   "source": [
    "type(matn)"
   ]
  },
  {
   "cell_type": "markdown",
   "metadata": {
    "colab_type": "text",
    "id": "xxHLBEZmecqo"
   },
   "source": [
    "اگر تعداد کلمات متن را دربیاوریم، تعداد حروف را خواهیم داشت:"
   ]
  },
  {
   "cell_type": "code",
   "execution_count": 12,
   "metadata": {
    "colab": {
     "base_uri": "https://localhost:8080/",
     "height": 34
    },
    "colab_type": "code",
    "executionInfo": {
     "elapsed": 3956,
     "status": "ok",
     "timestamp": 1552199205816,
     "user": {
      "displayName": "Mahmood Amintoosi",
      "photoUrl": "https://lh4.googleusercontent.com/-L9kqNgEMq4Q/AAAAAAAAAAI/AAAAAAAACn4/2zKYeoGn0fI/s64/photo.jpg",
      "userId": "06389092743998374259"
     },
     "user_tz": -210
    },
    "id": "jl4hfQtpecqp",
    "outputId": "39a658d8-650a-4629-f1d6-a00eeb217d47"
   },
   "outputs": [
    {
     "data": {
      "text/plain": [
       "282657"
      ]
     },
     "execution_count": 12,
     "metadata": {
      "tags": []
     },
     "output_type": "execute_result"
    }
   ],
   "source": [
    "len(matn)"
   ]
  },
  {
   "cell_type": "markdown",
   "metadata": {
    "colab_type": "text",
    "id": "diooypWbecqt"
   },
   "source": [
    "See View/Summary in Notepad++\n",
    "\n",
    "و به جای مجموعه کلمات، مجموعه حروف... "
   ]
  },
  {
   "cell_type": "code",
   "execution_count": 13,
   "metadata": {
    "colab": {
     "base_uri": "https://localhost:8080/",
     "height": 862
    },
    "colab_type": "code",
    "executionInfo": {
     "elapsed": 3948,
     "status": "ok",
     "timestamp": 1552199205816,
     "user": {
      "displayName": "Mahmood Amintoosi",
      "photoUrl": "https://lh4.googleusercontent.com/-L9kqNgEMq4Q/AAAAAAAAAAI/AAAAAAAACn4/2zKYeoGn0fI/s64/photo.jpg",
      "userId": "06389092743998374259"
     },
     "user_tz": -210
    },
    "id": "V8OJF7sIecqt",
    "outputId": "e9d071dc-f185-4218-b4db-a546c3ddf768"
   },
   "outputs": [
    {
     "data": {
      "text/plain": [
       "{'\\n',\n",
       " ' ',\n",
       " 'Y',\n",
       " 'آ',\n",
       " 'ا',\n",
       " 'ب',\n",
       " 'ت',\n",
       " 'ث',\n",
       " 'ج',\n",
       " 'ح',\n",
       " 'خ',\n",
       " 'د',\n",
       " 'ذ',\n",
       " 'ر',\n",
       " 'ز',\n",
       " 'س',\n",
       " 'ش',\n",
       " 'ص',\n",
       " 'ض',\n",
       " 'ط',\n",
       " 'ظ',\n",
       " 'ع',\n",
       " 'غ',\n",
       " 'ف',\n",
       " 'ق',\n",
       " 'ل',\n",
       " 'م',\n",
       " 'ن',\n",
       " 'ه',\n",
       " 'و',\n",
       " 'ي',\n",
       " 'پ',\n",
       " 'چ',\n",
       " 'ژ',\n",
       " 'ک',\n",
       " 'گ',\n",
       " 'ی',\n",
       " '۰',\n",
       " '۱',\n",
       " '۲',\n",
       " '۳',\n",
       " '۴',\n",
       " '۵',\n",
       " '۶',\n",
       " '۷',\n",
       " '۸',\n",
       " '۹',\n",
       " '\\u200c'}"
      ]
     },
     "execution_count": 13,
     "metadata": {
      "tags": []
     },
     "output_type": "execute_result"
    }
   ],
   "source": [
    "set(matn)"
   ]
  },
  {
   "cell_type": "code",
   "execution_count": 6,
   "metadata": {
    "colab": {
     "base_uri": "https://localhost:8080/",
     "height": 406
    },
    "colab_type": "code",
    "executionInfo": {
     "elapsed": 25190,
     "status": "ok",
     "timestamp": 1552220809955,
     "user": {
      "displayName": "Mahmood Amintoosi",
      "photoUrl": "https://lh4.googleusercontent.com/-L9kqNgEMq4Q/AAAAAAAAAAI/AAAAAAAACn4/2zKYeoGn0fI/s64/photo.jpg",
      "userId": "06389092743998374259"
     },
     "user_tz": -210
    },
    "id": "cvASIqKUgTdN",
    "outputId": "38878829-3800-4ce4-9b44-cc72f503c5e8"
   },
   "outputs": [
    {
     "name": "stdout",
     "output_type": "stream",
     "text": [
      "Collecting hazm\n",
      "\u001b[?25l  Downloading https://files.pythonhosted.org/packages/22/13/5a7074bc11d20dbbb46239349ac3f85f7edc148b4cf68e9b8c2f8263830c/hazm-0.7.0-py3-none-any.whl (316kB)\n",
      "\u001b[K    100% |████████████████████████████████| 317kB 27.0MB/s \n",
      "\u001b[?25hCollecting nltk==3.3 (from hazm)\n",
      "\u001b[?25l  Downloading https://files.pythonhosted.org/packages/50/09/3b1755d528ad9156ee7243d52aa5cd2b809ef053a0f31b53d92853dd653a/nltk-3.3.0.zip (1.4MB)\n",
      "\u001b[K    100% |████████████████████████████████| 1.4MB 14.8MB/s \n",
      "\u001b[?25hCollecting libwapiti>=0.2.1; platform_system != \"Windows\" (from hazm)\n",
      "\u001b[?25l  Downloading https://files.pythonhosted.org/packages/bc/0f/1c9b49bb49821b5856a64ea6fac8d96a619b9f291d1f06999ea98a32c89c/libwapiti-0.2.1.tar.gz (233kB)\n",
      "\u001b[K    100% |████████████████████████████████| 235kB 27.9MB/s \n",
      "\u001b[?25hRequirement already satisfied: six in /usr/local/lib/python3.6/dist-packages (from nltk==3.3->hazm) (1.11.0)\n",
      "Building wheels for collected packages: nltk, libwapiti\n",
      "  Building wheel for nltk (setup.py) ... \u001b[?25ldone\n",
      "\u001b[?25h  Stored in directory: /root/.cache/pip/wheels/d1/ab/40/3bceea46922767e42986aef7606a600538ca80de6062dc266c\n",
      "  Building wheel for libwapiti (setup.py) ... \u001b[?25ldone\n",
      "\u001b[?25h  Stored in directory: /root/.cache/pip/wheels/66/15/54/4510dce8bb958b1cdd2c47425cbd1e1eecc0480ac9bb1fb9ab\n",
      "Successfully built nltk libwapiti\n",
      "Installing collected packages: nltk, libwapiti, hazm\n",
      "  Found existing installation: nltk 3.2.5\n",
      "    Uninstalling nltk-3.2.5:\n",
      "      Successfully uninstalled nltk-3.2.5\n",
      "Successfully installed hazm-0.7.0 libwapiti-0.2.1 nltk-3.3\n"
     ]
    }
   ],
   "source": [
    "!pip3 install hazm"
   ]
  },
  {
   "cell_type": "code",
   "execution_count": 0,
   "metadata": {
    "colab": {},
    "colab_type": "code",
    "id": "RtlGTbY-ecqx"
   },
   "outputs": [],
   "source": [
    "import hazm"
   ]
  },
  {
   "cell_type": "code",
   "execution_count": 16,
   "metadata": {
    "colab": {
     "base_uri": "https://localhost:8080/",
     "height": 34
    },
    "colab_type": "code",
    "executionInfo": {
     "elapsed": 31000,
     "status": "ok",
     "timestamp": 1552199232883,
     "user": {
      "displayName": "Mahmood Amintoosi",
      "photoUrl": "https://lh4.googleusercontent.com/-L9kqNgEMq4Q/AAAAAAAAAAI/AAAAAAAACn4/2zKYeoGn0fI/s64/photo.jpg",
      "userId": "06389092743998374259"
     },
     "user_tz": -210
    },
    "id": "s-s7Q-Tvecqz",
    "outputId": "b1b89d60-056f-4789-9c6e-09f4e8869e4c"
   },
   "outputs": [
    {
     "data": {
      "text/plain": [
       "282657"
      ]
     },
     "execution_count": 16,
     "metadata": {
      "tags": []
     },
     "output_type": "execute_result"
    }
   ],
   "source": [
    "len(matn)"
   ]
  },
  {
   "cell_type": "code",
   "execution_count": 17,
   "metadata": {
    "colab": {
     "base_uri": "https://localhost:8080/",
     "height": 87
    },
    "colab_type": "code",
    "executionInfo": {
     "elapsed": 30993,
     "status": "ok",
     "timestamp": 1552199232884,
     "user": {
      "displayName": "Mahmood Amintoosi",
      "photoUrl": "https://lh4.googleusercontent.com/-L9kqNgEMq4Q/AAAAAAAAAAI/AAAAAAAACn4/2zKYeoGn0fI/s64/photo.jpg",
      "userId": "06389092743998374259"
     },
     "user_tz": -210
    },
    "id": "BOhx_ED_ecq2",
    "outputId": "13ac52a8-0ffb-40cd-e2c6-51d243d0bd6c"
   },
   "outputs": [
    {
     "name": "stdout",
     "output_type": "stream",
     "text": [
      "ديوان حافظ غزل   ۱\n",
      "الا يا ايها الساقی ادر کاسا و ناولها که عشق آسان نمود اول ولی افتاد مشکل‌ها\n",
      "...\n",
      "هر مرغ به دستانی در گلشن شاه آمد بلبل به نواسازی حافظ به غزل گويی\n"
     ]
    }
   ],
   "source": [
    "sentence = hazm.sent_tokenize(matn)\n",
    "print(sentence[0])\n",
    "print(sentence[1])\n",
    "print('...')\n",
    "print(sentence[-1])"
   ]
  },
  {
   "cell_type": "code",
   "execution_count": 18,
   "metadata": {
    "colab": {
     "base_uri": "https://localhost:8080/",
     "height": 34
    },
    "colab_type": "code",
    "executionInfo": {
     "elapsed": 30984,
     "status": "ok",
     "timestamp": 1552199232884,
     "user": {
      "displayName": "Mahmood Amintoosi",
      "photoUrl": "https://lh4.googleusercontent.com/-L9kqNgEMq4Q/AAAAAAAAAAI/AAAAAAAACn4/2zKYeoGn0fI/s64/photo.jpg",
      "userId": "06389092743998374259"
     },
     "user_tz": -210
    },
    "id": "_XzEDwMMecq8",
    "outputId": "78a5d8df-1ffb-47cc-c2e6-d0910e65045e"
   },
   "outputs": [
    {
     "data": {
      "text/plain": [
       "4686"
      ]
     },
     "execution_count": 18,
     "metadata": {
      "tags": []
     },
     "output_type": "execute_result"
    }
   ],
   "source": [
    "len(sentence)"
   ]
  },
  {
   "cell_type": "code",
   "execution_count": 19,
   "metadata": {
    "colab": {
     "base_uri": "https://localhost:8080/",
     "height": 34
    },
    "colab_type": "code",
    "executionInfo": {
     "elapsed": 31330,
     "status": "ok",
     "timestamp": 1552199233238,
     "user": {
      "displayName": "Mahmood Amintoosi",
      "photoUrl": "https://lh4.googleusercontent.com/-L9kqNgEMq4Q/AAAAAAAAAAI/AAAAAAAACn4/2zKYeoGn0fI/s64/photo.jpg",
      "userId": "06389092743998374259"
     },
     "user_tz": -210
    },
    "id": "HcDFZhOqecq_",
    "outputId": "71f706a4-9dd3-4f1d-8a94-2f0fdac78e67"
   },
   "outputs": [
    {
     "name": "stdout",
     "output_type": "stream",
     "text": [
      "['الا', 'يا', 'ايها', 'الساقی', 'ادر', 'کاسا', 'و', 'ناولها', 'که', 'عشق', 'آسان', 'نمود', 'اول', 'ولی', 'افتاد', 'مشکل\\u200cها']\n"
     ]
    }
   ],
   "source": [
    "sentence_word = [hazm.word_tokenize(sent) for sent in sentence]\n",
    "print(sentence_word[1])"
   ]
  },
  {
   "cell_type": "code",
   "execution_count": 20,
   "metadata": {
    "colab": {
     "base_uri": "https://localhost:8080/",
     "height": 34
    },
    "colab_type": "code",
    "executionInfo": {
     "elapsed": 31323,
     "status": "ok",
     "timestamp": 1552199233240,
     "user": {
      "displayName": "Mahmood Amintoosi",
      "photoUrl": "https://lh4.googleusercontent.com/-L9kqNgEMq4Q/AAAAAAAAAAI/AAAAAAAACn4/2zKYeoGn0fI/s64/photo.jpg",
      "userId": "06389092743998374259"
     },
     "user_tz": -210
    },
    "id": "qSmBeuyXecrQ",
    "outputId": "6d14629b-9741-4b75-c185-bd498d2e9841"
   },
   "outputs": [
    {
     "data": {
      "text/plain": [
       "4686"
      ]
     },
     "execution_count": 20,
     "metadata": {
      "tags": []
     },
     "output_type": "execute_result"
    }
   ],
   "source": [
    "len(sentence_word)"
   ]
  },
  {
   "cell_type": "code",
   "execution_count": 21,
   "metadata": {
    "colab": {
     "base_uri": "https://localhost:8080/",
     "height": 34
    },
    "colab_type": "code",
    "executionInfo": {
     "elapsed": 31316,
     "status": "ok",
     "timestamp": 1552199233241,
     "user": {
      "displayName": "Mahmood Amintoosi",
      "photoUrl": "https://lh4.googleusercontent.com/-L9kqNgEMq4Q/AAAAAAAAAAI/AAAAAAAACn4/2zKYeoGn0fI/s64/photo.jpg",
      "userId": "06389092743998374259"
     },
     "user_tz": -210
    },
    "id": "NL29dLjNecra",
    "outputId": "537fb666-c268-4ae7-c0c1-97367d196201"
   },
   "outputs": [
    {
     "name": "stdout",
     "output_type": "stream",
     "text": [
      "['ديوان حافظ غزل   ۱', 'الا يا ايها الساقی ادر کاسا و ناولها که عشق آسان نمود اول ولی افتاد مشکل\\u200cها']\n"
     ]
    }
   ],
   "source": [
    "sent_tok = hazm.sent_tokenize(matn)\n",
    "len(sent_tok)\n",
    "print(sent_tok[0:2])"
   ]
  },
  {
   "cell_type": "code",
   "execution_count": 25,
   "metadata": {
    "colab": {
     "base_uri": "https://localhost:8080/",
     "height": 90
    },
    "colab_type": "code",
    "executionInfo": {
     "elapsed": 772,
     "status": "ok",
     "timestamp": 1552199294526,
     "user": {
      "displayName": "Mahmood Amintoosi",
      "photoUrl": "https://lh4.googleusercontent.com/-L9kqNgEMq4Q/AAAAAAAAAAI/AAAAAAAACn4/2zKYeoGn0fI/s64/photo.jpg",
      "userId": "06389092743998374259"
     },
     "user_tz": -210
    },
    "id": "rkQCB-deecrd",
    "outputId": "f886dbc8-b102-4f08-f702-b10d2f5a0b28"
   },
   "outputs": [
    {
     "name": "stdout",
     "output_type": "stream",
     "text": [
      "63667\n",
      "['حافظ', 'غزل', '۱', 'الا', 'يا', 'ايها', 'الساقی', 'ادر', 'کاسا', 'و', 'ناولها', 'که', 'عشق', 'آسان', 'نمود', 'اول', 'ولی', 'افتاد', 'مشکل\\u200cها']\n",
      "<class 'list'>\n"
     ]
    }
   ],
   "source": [
    "word_tok = hazm.word_tokenize(matn)\n",
    "print(len(word_tok))\n",
    "print(word_tok[1:20])\n",
    "print(type(word_tok))"
   ]
  },
  {
   "cell_type": "code",
   "execution_count": 34,
   "metadata": {
    "colab": {
     "base_uri": "https://localhost:8080/",
     "height": 52
    },
    "colab_type": "code",
    "executionInfo": {
     "elapsed": 764,
     "status": "ok",
     "timestamp": 1552204958060,
     "user": {
      "displayName": "Mahmood Amintoosi",
      "photoUrl": "https://lh4.googleusercontent.com/-L9kqNgEMq4Q/AAAAAAAAAAI/AAAAAAAACn4/2zKYeoGn0fI/s64/photo.jpg",
      "userId": "06389092743998374259"
     },
     "user_tz": -210
    },
    "id": "DG4gXPwJecrg",
    "outputId": "9985bd97-75a1-4e4b-ee57-4e086047d787"
   },
   "outputs": [
    {
     "name": "stdout",
     "output_type": "stream",
     "text": [
      "{'گلشن', 'روشن'}\n",
      "<class 'set'>\n"
     ]
    }
   ],
   "source": [
    "kalemat = set()\n",
    "for w in set(word_tok):\n",
    "  if w.endswith('شن'):\n",
    "    kalemat.add(w)\n",
    "#     print(w)\n",
    "print(kalemat)\n",
    "print(type(kalemat))"
   ]
  },
  {
   "cell_type": "code",
   "execution_count": 35,
   "metadata": {
    "colab": {
     "base_uri": "https://localhost:8080/",
     "height": 52
    },
    "colab_type": "code",
    "executionInfo": {
     "elapsed": 796,
     "status": "ok",
     "timestamp": 1552204975974,
     "user": {
      "displayName": "Mahmood Amintoosi",
      "photoUrl": "https://lh4.googleusercontent.com/-L9kqNgEMq4Q/AAAAAAAAAAI/AAAAAAAACn4/2zKYeoGn0fI/s64/photo.jpg",
      "userId": "06389092743998374259"
     },
     "user_tz": -210
    },
    "id": "zeu44mOoSay6",
    "outputId": "4e2ae2b0-d379-42e4-e57b-9ff58891512a"
   },
   "outputs": [
    {
     "name": "stdout",
     "output_type": "stream",
     "text": [
      "{'گلشن', 'روشن'}\n",
      "<class 'set'>\n"
     ]
    }
   ],
   "source": [
    "# loghat = {w for w in set(word_tok) if w.endswith('شن')}\n",
    "loghat = [w for w in set(word_tok) if w.endswith('شن')]\n",
    "print(loghat)\n",
    "print(type(loghat))"
   ]
  },
  {
   "cell_type": "code",
   "execution_count": 37,
   "metadata": {
    "colab": {
     "base_uri": "https://localhost:8080/",
     "height": 54
    },
    "colab_type": "code",
    "executionInfo": {
     "elapsed": 1767,
     "status": "ok",
     "timestamp": 1552205144369,
     "user": {
      "displayName": "Mahmood Amintoosi",
      "photoUrl": "https://lh4.googleusercontent.com/-L9kqNgEMq4Q/AAAAAAAAAAI/AAAAAAAACn4/2zKYeoGn0fI/s64/photo.jpg",
      "userId": "06389092743998374259"
     },
     "user_tz": -210
    },
    "id": "djUmFtqEn1rx",
    "outputId": "812e0afe-0283-4467-9441-66d5047280f3"
   },
   "outputs": [
    {
     "name": "stdout",
     "output_type": "stream",
     "text": [
      "['نوگل', 'پرگلاب', 'چمن', 'چمنش', 'چمنم', 'چمنيست', 'چمنی', 'چگل', 'کهگل', 'گل', 'گلاب', 'گلابی', 'گلبانگ', 'گلبرگ', 'گلبشکر', 'گلبن', 'گلدسته\\u200cای', 'گلرخ', 'گلرخانش', 'گلرخی', 'گلرنگ', 'گلريز', 'گلزار', 'گلزاريست', 'گلزاری', 'گلستان', 'گلستانش', 'گلشن', 'گلشنش', 'گلشنم', 'گلشنی', 'گلعذار', 'گلعذاری', 'گلم', 'گلنار', 'گله', 'گله\\u200cای', 'گله\\u200cهای', 'گلو', 'گليم', 'گلچهر', 'گلگشت', 'گلگون', 'گلگونم', 'گلی', 'گل\\u200cبيز']\n"
     ]
    }
   ],
   "source": [
    "tricky = sorted([w for w in set(word_tok) if 'گل' in w or 'چمن' in w])\n",
    "print(tricky)"
   ]
  },
  {
   "cell_type": "code",
   "execution_count": 0,
   "metadata": {
    "colab": {},
    "colab_type": "code",
    "id": "Lal1rtolopOp"
   },
   "outputs": [],
   "source": []
  }
 ],
 "metadata": {
  "colab": {
   "collapsed_sections": [],
   "name": "page-14-persian.ipynb",
   "provenance": [],
   "version": "0.3.2"
  },
  "kernelspec": {
   "display_name": "Python 3",
   "language": "python",
   "name": "python3"
  },
  "language_info": {
   "codemirror_mode": {
    "name": "ipython",
    "version": 3
   },
   "file_extension": ".py",
   "mimetype": "text/x-python",
   "name": "python",
   "nbconvert_exporter": "python",
   "pygments_lexer": "ipython3",
   "version": "3.6.10"
  }
 },
 "nbformat": 4,
 "nbformat_minor": 1
}

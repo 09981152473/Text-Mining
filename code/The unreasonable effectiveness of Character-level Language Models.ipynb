{
 "cells": [
  {
   "attachments": {},
   "cell_type": "markdown",
   "metadata": {},
   "source": [
    "# مثال مرتبط با مدل زبانی ساده\n",
    "## زنجیره مارکوف\n",
    "\n",
    "محمود امین طوسی"
   ]
  },
  {
   "cell_type": "code",
   "execution_count": 6,
   "metadata": {},
   "outputs": [],
   "source": [
    "from random import random\n",
    "import io\n",
    "\n",
    "def generate_letter(lm, history, order):\n",
    "        history = history[-order:]\n",
    "        dist = lm[history]\n",
    "        x = random()\n",
    "        for c,v in dist:\n",
    "            x = x - v\n",
    "            if x <= 0: return c"
   ]
  },
  {
   "cell_type": "code",
   "execution_count": 2,
   "metadata": {},
   "outputs": [],
   "source": [
    "def generate_text(lm, order, nletters=1000):\n",
    "    history = \"~\" * order\n",
    "    out = []\n",
    "    for i in range(nletters):\n",
    "        c = generate_letter(lm, history, order)\n",
    "        history = history[-order:] + c\n",
    "        out.append(c)\n",
    "    return \"\".join(out)"
   ]
  },
  {
   "cell_type": "code",
   "execution_count": 25,
   "metadata": {},
   "outputs": [],
   "source": [
    "from collections import *\n",
    "\n",
    "def train_char_lm(fname, order=4):\n",
    "#     data = open(fname).read()\n",
    "    file = io.open(fname, encoding='utf-8')\n",
    "    data = file.read()\n",
    "    lm = defaultdict(Counter)\n",
    "    pad = \"~\" * order\n",
    "    data = pad + data\n",
    "    for i in range(len(data)-order):\n",
    "        history, char = data[i:i+order], data[i+order]\n",
    "        lm[history][char]+=1\n",
    "    def normalize(counter):\n",
    "        s = float(sum(counter.values()))\n",
    "        return [(c,cnt/s) for c,cnt in counter.items()]\n",
    "    outlm = {hist:normalize(chars) for hist, chars in lm.items()}\n",
    "    return outlm"
   ]
  },
  {
   "cell_type": "code",
   "execution_count": 7,
   "metadata": {},
   "outputs": [],
   "source": [
    "fname = \"../data/Anne_of_Green_Gables.txt\"\n",
    "order = 4\n",
    "# data = open(fname).read(ch)\n",
    "file = io.open(fname, encoding='utf-8')\n",
    "data = file.read()\n",
    "lm = defaultdict(Counter)\n"
   ]
  },
  {
   "cell_type": "code",
   "execution_count": 12,
   "metadata": {},
   "outputs": [],
   "source": [
    "pad = \"~\" * order\n",
    "data = pad + data\n",
    "for i in range(len(data)-order):\n",
    "    history, char = data[i:i+order], data[i+order]\n",
    "    lm[history][char]+=1"
   ]
  },
  {
   "cell_type": "code",
   "execution_count": 21,
   "metadata": {},
   "outputs": [
    {
     "name": "stdout",
     "output_type": "stream",
     "text": [
      "('~~~~', Counter({'~': 12, 'T': 3}))\n",
      "('~~~T', Counter({'i': 3}))\n",
      "('~~Ti', Counter({'t': 3}))\n",
      "('~Tit', Counter({'l': 3}))\n",
      "('Titl', Counter({'e': 3}))\n",
      "('itle', Counter({':': 3, 's': 3, 'd': 3}))\n",
      "('tle:', Counter({' ': 3}))\n",
      "('le: ', Counter({'A': 3}))\n",
      "('e: A', Counter({'n': 3}))\n",
      "(': An', Counter({'n': 3}))\n",
      "(' Ann', Counter({'e': 2871, ' ': 3}))\n",
      "('Anne', Counter({' ': 2007, ',': 645, '.': 411, '’': 315, '\\n': 114, '?': 66, '-': 36, '!': 12, ';': 6, '”': 6, 's': 3, ']': 3}))\n",
      "('nne ', Counter({'w': 234, 's': 216, 'h': 186, 'a': 150, 'S': 135, 't': 123, 'c': 123, 'f': 120, 'l': 96, 'r': 93, 'd': 90, 'i': 66, 'g': 57, 'm': 57, 'o': 48, 'p': 48, 'b': 45, 'n': 33, 'e': 33, 'k': 15, 'q': 9, 'C': 6, 'j': 6, 'u': 3, '“': 3, 'M': 3, '_': 3, '(': 3, 'I': 3}))\n"
     ]
    }
   ],
   "source": [
    "for i,x in enumerate(lm.items()):\n",
    "    print(x)\n",
    "    if i==12:\n",
    "        break"
   ]
  },
  {
   "cell_type": "code",
   "execution_count": 23,
   "metadata": {},
   "outputs": [
    {
     "name": "stdout",
     "output_type": "stream",
     "text": [
      "Anne Counter({' ': 2007, ',': 645, '.': 411, '’': 315, '\\n': 114, '?': 66, '-': 36, '!': 12, ';': 6, '”': 6, 's': 3, ']': 3})\n",
      "dict_values([2007, 315, 645, 114, 411, 66, 36, 12, 6, 3, 6, 3])\n",
      "[(' ', 0.5538079470198676), ('’', 0.0869205298013245), (',', 0.17798013245033112), ('\\n', 0.03145695364238411), ('.', 0.11341059602649006), ('?', 0.018211920529801324), ('-', 0.009933774834437087), ('!', 0.0033112582781456954), (';', 0.0016556291390728477), ('s', 0.0008278145695364238), ('”', 0.0016556291390728477), (']', 0.0008278145695364238)]\n"
     ]
    }
   ],
   "source": [
    "i = 1\n",
    "for hist, chars in lm.items():\n",
    "    if i==12:\n",
    "        print(hist, chars)\n",
    "        print(chars.values())\n",
    "        print(normalize(chars))\n",
    "        break\n",
    "    i +=1    "
   ]
  },
  {
   "cell_type": "code",
   "execution_count": 9,
   "metadata": {},
   "outputs": [],
   "source": [
    "def normalize(counter):\n",
    "    s = float(sum(counter.values()))\n",
    "    return [(c,cnt/s) for c,cnt in counter.items()]\n",
    "outlm = {hist:normalize(chars) for hist, chars in lm.items()}\n"
   ]
  },
  {
   "cell_type": "code",
   "execution_count": 22,
   "metadata": {},
   "outputs": [
    {
     "name": "stdout",
     "output_type": "stream",
     "text": [
      "('~~~~', [('T', 1.0)])\n",
      "('~~~T', [('i', 1.0)])\n",
      "('~~Ti', [('t', 1.0)])\n",
      "('~Tit', [('l', 1.0)])\n",
      "('Titl', [('e', 1.0)])\n",
      "('itle', [(':', 0.3333333333333333), ('s', 0.3333333333333333), ('d', 0.3333333333333333)])\n",
      "('tle:', [(' ', 1.0)])\n",
      "('le: ', [('A', 1.0)])\n",
      "('e: A', [('n', 1.0)])\n",
      "(': An', [('n', 1.0)])\n",
      "(' Ann', [('e', 0.9989561586638831), (' ', 0.0010438413361169101)])\n",
      "('Anne', [(' ', 0.5538079470198676), ('’', 0.0869205298013245), (',', 0.17798013245033112), ('\\n', 0.03145695364238411), ('.', 0.11341059602649006), ('?', 0.018211920529801324), ('-', 0.009933774834437087), ('!', 0.0033112582781456954), (';', 0.0016556291390728477), ('s', 0.0008278145695364238), ('”', 0.0016556291390728477), (']', 0.0008278145695364238)])\n",
      "('nne ', [('o', 0.02391629297458894), ('S', 0.06726457399103139), ('t', 0.061285500747384154), ('i', 0.03288490284005979), ('C', 0.0029895366218236174), ('s', 0.10762331838565023), ('c', 0.061285500747384154), ('n', 0.016442451420029897), ('l', 0.04783258594917788), ('h', 0.09267563527653214), ('a', 0.07473841554559044), ('d', 0.04484304932735426), ('b', 0.02242152466367713), ('r', 0.04633781763826607), ('w', 0.11659192825112108), ('f', 0.059790732436472344), ('g', 0.028400597907324365), ('m', 0.028400597907324365), ('u', 0.0014947683109118087), ('k', 0.007473841554559043), ('p', 0.02391629297458894), ('“', 0.0014947683109118087), ('e', 0.016442451420029897), ('M', 0.0014947683109118087), ('_', 0.0014947683109118087), ('q', 0.004484304932735426), ('(', 0.0014947683109118087), ('j', 0.0029895366218236174), ('I', 0.0014947683109118087)])\n"
     ]
    }
   ],
   "source": [
    "for i,x in enumerate(outlm.items()):\n",
    "    print(x)\n",
    "    if i==12:\n",
    "        break"
   ]
  },
  {
   "cell_type": "code",
   "execution_count": 26,
   "metadata": {},
   "outputs": [],
   "source": [
    "lm = train_char_lm(\"../data/Anne_of_Green_Gables.txt\", order=4)"
   ]
  },
  {
   "cell_type": "code",
   "execution_count": 27,
   "metadata": {},
   "outputs": [
    {
     "data": {
      "text/plain": [
       "[('e', 1.0)]"
      ]
     },
     "execution_count": 27,
     "metadata": {},
     "output_type": "execute_result"
    }
   ],
   "source": [
    "lm['Rach']"
   ]
  },
  {
   "cell_type": "code",
   "execution_count": 28,
   "metadata": {},
   "outputs": [
    {
     "data": {
      "text/plain": [
       "[('n', 0.9787234042553191), ('k', 0.02127659574468085)]"
      ]
     },
     "execution_count": 28,
     "metadata": {},
     "output_type": "execute_result"
    }
   ],
   "source": [
    "lm['Gree']"
   ]
  },
  {
   "cell_type": "code",
   "execution_count": 29,
   "metadata": {},
   "outputs": [
    {
     "data": {
      "text/plain": [
       "[('l', 0.9988193624557261), ('t', 0.0011806375442739079)]"
      ]
     },
     "execution_count": 29,
     "metadata": {},
     "output_type": "execute_result"
    }
   ],
   "source": [
    "lm['Mari']"
   ]
  },
  {
   "cell_type": "code",
   "execution_count": 30,
   "metadata": {},
   "outputs": [
    {
     "data": {
      "text/plain": [
       "[(' ', 0.5538079470198676),\n",
       " ('’', 0.0869205298013245),\n",
       " (',', 0.17798013245033112),\n",
       " ('\\n', 0.03145695364238411),\n",
       " ('.', 0.11341059602649006),\n",
       " ('?', 0.018211920529801324),\n",
       " ('-', 0.009933774834437087),\n",
       " ('!', 0.0033112582781456954),\n",
       " (';', 0.0016556291390728477),\n",
       " ('s', 0.0008278145695364238),\n",
       " ('”', 0.0016556291390728477),\n",
       " (']', 0.0008278145695364238)]"
      ]
     },
     "execution_count": 30,
     "metadata": {},
     "output_type": "execute_result"
    }
   ],
   "source": [
    "dist = lm['Anne']\n",
    "dist"
   ]
  },
  {
   "cell_type": "code",
   "execution_count": 31,
   "metadata": {},
   "outputs": [],
   "source": [
    "# for c,v in dist:\n",
    "#     print(c,v)"
   ]
  },
  {
   "cell_type": "code",
   "execution_count": 32,
   "metadata": {},
   "outputs": [
    {
     "name": "stdout",
     "output_type": "stream",
     "text": [
      "Title: Anne of Green\n",
      "Gables--and then I’d just _feel_ a prayer. Well, I’m sorry. I’m sorry,” she said. “I knew you could say she was a kindred spirit as soon as she’s fifteen,”\n",
      " said Diana. “You won’t find it a bit hard.”\n",
      "\n",
      "Something like Diana\n",
      "Barry has or Ruby Gillis to make ice cream and\n",
      "chicken salad every blessed day. I’m sure I don’t know that I’m really bad and unregenerate?”\n",
      "\n",
      "Marilla stared in blank amazement, beheld a white-lipped eager-eyed suppliant on\n",
      "the doorstep.\n",
      "\n",
      "Her face hardened. Mrs. Barry won’t forgive me. I did not mean to\n",
      "be.\n",
      "\n",
      "Anne stood among the boys, but soon it was encored. I just wish I was going to braid your hair?”\n",
      "\n",
      "“Yes, and oh, Marilla, it’s a solemn thing to me for all. Today Diana said, big girls used to lend me her slippers because you told me this morning. After breakfast was over. I am resigned his charge and\n",
      "departed amid the regrets of his people, most of whom had the affectionately into the\n",
      "sky--up--up--up--up--into that lovely clear big\n",
      "one away ov\n"
     ]
    }
   ],
   "source": [
    "order = 10\n",
    "lm = train_char_lm(\"../data/Anne_of_Green_Gables.txt\", order=order)\n",
    "print(generate_text(lm, order))"
   ]
  },
  {
   "cell_type": "code",
   "execution_count": 34,
   "metadata": {},
   "outputs": [
    {
     "name": "stdout",
     "output_type": "stream",
     "text": [
      " ديوان حافظ\n",
      "غزل   ۱\n",
      "\n",
      "الا يا ايها الساقی ادر کاسا و ناولها\n",
      "که عشق آسان نمود اول\n",
      "آخر بسوخت جانم در کسب اين فضايل\n",
      "\n",
      "حلاج بر سر دار اين نکته به تحقيق ندانی دانست\n",
      "\n",
      "می بياور که جم نخواهد ماند\n",
      "چنان نماند چنين نيز هم نخواهد ماند\n",
      "\n",
      "من ار چه عاشقم و رند و مست و نامه سياه آمده‌ايم\n",
      "\n",
      "سبزه خط تو ديديم و ز بستان بهشت\n",
      "به طلبکاری اين مهرگياه آمده‌ايم\n",
      "\n",
      "آبرو می‌رود ای ابر خطاپوش ببار\n",
      "که به ديوان غزل صدرنشينم چه عجب\n",
      "سال‌ها بندگی صاحب ديوان کردم\n",
      "\n",
      "\n",
      "غزل    ۱۸۹\n",
      "\n",
      "طاير دولت اگر چند سرکشيده رود\n",
      "ز همرهان بودن طريق کاردانی نيست\n",
      "بکش دشواری منزل به ياد عهد آسانی\n",
      "\n",
      "خيال چنبر زلفش فريبت می‌دهد حافظ\n",
      "نگر تا حلقه اقبال ناممکن نجنبانی\n",
      "\n",
      "\n",
      "غزل    ۳۳۰\n",
      "\n",
      "تو همچو صبحی و من شمع خلوت سحرم\n",
      "تبسمی کن و جان بين که چون همی‌سپرم\n",
      "\n",
      "چنين که از همه سو دام راه می‌بينم\n",
      "ز اشک پرس حکايت که من نيم غماز\n",
      "\n",
      "چه فتنه بود که مشاطه قضا انگيخت\n",
      "که کرد نرگس مستش سيه به سرمه ناز\n",
      "\n",
      "بدين سپاس که مجلس منور است به دوست\n",
      "گرت چو شمع جفايی رسد بسوز و بساز\n",
      "\n",
      "غرض کرشمه حسن است ور نه حاجت نيست\n",
      "جمال دولت محمود را به زيارت درياب\n",
      "زان که بيچاره همان دل‌نگران است که با حسن خدا\n"
     ]
    }
   ],
   "source": [
    "order = 10\n",
    "lm = train_char_lm(\"../data/divan.txt\", order=order)\n",
    "print(generate_text(lm, order))"
   ]
  },
  {
   "cell_type": "code",
   "execution_count": null,
   "metadata": {},
   "outputs": [],
   "source": []
  }
 ],
 "metadata": {
  "kernelspec": {
   "display_name": "Python 3 (ipykernel)",
   "language": "python",
   "name": "python3"
  },
  "language_info": {
   "codemirror_mode": {
    "name": "ipython",
    "version": 3
   },
   "file_extension": ".py",
   "mimetype": "text/x-python",
   "name": "python",
   "nbconvert_exporter": "python",
   "pygments_lexer": "ipython3",
   "version": "3.9.7"
  }
 },
 "nbformat": 4,
 "nbformat_minor": 2
}
